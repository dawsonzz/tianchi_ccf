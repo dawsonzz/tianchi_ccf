{
 "cells": [
  {
   "cell_type": "code",
   "execution_count": 1,
   "metadata": {
    "collapsed": false
   },
   "outputs": [],
   "source": [
    "import os, sys, pickle\n",
    "import numpy as np\n",
    "import pandas as pd\n",
    "import matplotlib.pyplot as plt\n",
    "from datetime import date\n",
    "from sklearn.linear_model import SGDClassifier\n",
    "# refer to https://tianchi.aliyun.com/learn/live.html?spm=5176.11510297.4851204.1.19a93c60417WIG&classroomId=263#classroomId=263&postsId=23463"
   ]
  },
  {
   "cell_type": "code",
   "execution_count": 3,
   "metadata": {},
   "outputs": [],
   "source": [
    "# 数据加载\n",
    "dir_file = 'data'\n",
    "dfoff = pd.read_csv(os.path.join(dir_file, 'cf_offline_stage1_train.csv'))\n",
    "dftest = pd.read_csv(os.path.join(dir_file, 'ccf_offline_stage1_test_revised.csv'))\n",
    "dfon = pd.read_csv(os.path.join(dir_file, 'ccf_online_stage1_train.csv'))\n",
    "print('data read end.')"
   ]
  },
  {
   "cell_type": "code",
   "execution_count": 3,
   "metadata": {},
   "outputs": [],
   "source": [
    "# 1. 将满xx减yy类型(`xx:yy`)的券变成折扣率 : `1 - yy/xx`，同时建立折扣券相关的特征 \n",
    "# `discount_rate, discount_man, discount_jian, discount_type`\n",
    "# 2. 将距离 `str` 转为 `int`\n",
    "# convert Discount_rate and Distance\n",
    "\n",
    "def getDiscountType(row):\n",
    "  if pd.isnull(row):\n",
    "    return np.nan\n",
    "  elif ':' in row:\n",
    "    return 1\n",
    "  else:\n",
    "    return 0\n",
    "\n",
    "def convertRate(row):\n",
    "  if pd.isnull(row):\n",
    "    return 1.0\n",
    "  elif ':' in str(row):\n",
    "    rows = str(row).split(':')\n",
    "    return 1.0 - float(rows[1])/float(rows[0])\n",
    "  else:\n",
    "    return float(row)\n",
    "\n",
    "def getDiscountMan(row):\n",
    "  if ':' in str(row):\n",
    "    rows = str(row).split(':')\n",
    "    return int(rows[0])\n",
    "  else:\n",
    "    return 0\n",
    "\n",
    "def getDiscountJian(row):\n",
    "  if ':' in str(row):\n",
    "    rows = str(row).split(':')\n",
    "    return int(rows[1])\n",
    "  else:\n",
    "    return 0\n",
    "print('tool is ok')"
   ]
  },
  {
   "cell_type": "code",
   "execution_count": 4,
   "metadata": {},
   "outputs": [],
   "source": [
    "def processData(df):\n",
    "  df['discount_rate'] = df['Discount_rate'].apply(convertRate)\n",
    "  df['discount_man'] = df['Discount_rate'].apply(getDiscountMan)\n",
    "  df['discount_jian'] = df['Discount_rate'].apply(getDiscountJian)\n",
    "  df['discount_type'] = df['Discount_rate'].apply(getDiscountType)\n",
    "  print(df['discount_rate'].unique())\n",
    "  df['distance'] = df['Distance'].fillna(-1).astype(int)\n",
    "  return df\n",
    "\n",
    "dfoff = processData(dfoff)\n",
    "dftest = processData(dftest)"
   ]
  },
  {
   "cell_type": "code",
   "execution_count": null,
   "metadata": {},
   "outputs": [],
   "source": [
    "# date_received = dfoff['Date_received'].unique()\n",
    "# date_received = sorted(date_received[pd.notnull(date_received)])\n",
    "\n",
    "# date_buy = dfoff['Date'].unique()\n",
    "# date_buy = sorted(date_buy[pd.notnull(date_buy)])\n",
    "# date_buy = sorted(dfoff[dfoff['Date'].notnull()]['Date'])"
   ]
  },
  {
   "cell_type": "code",
   "execution_count": null,
   "metadata": {},
   "outputs": [],
   "source": [
    "couponbydate = dfoff[dfoff['Date_received'].notnull()][['Date_received', 'Date']].groupby(['Date_received'], as_index=False).count()\n",
    "couponbydate.columns = ['Date_received','count']\n",
    "buybydate = dfoff[(dfoff['Date'].notnull()) & (dfoff['Date_received'].notnull())][['Date_received', 'Date']].groupby(['Date_received'], as_index=False).count()\n",
    "buybydate.columns = ['Date_received','count']\n",
    " \n",
    "print(\"end\")"
   ]
  },
  {
   "cell_type": "code",
   "execution_count": 4,
   "metadata": {},
   "outputs": [],
   "source": [
    "def getWeekday(row):\n",
    "    if row == 'nan':\n",
    "        return np.nan\n",
    "    else:\n",
    "        return date(int(row[0:4]), int(row[4:6]), int(row[6:8])).weekday() + 1\n",
    " \n",
    "dfoff['weekday'] = dfoff['Date_received'].astype(str).apply(getWeekday)\n",
    "dftest['weekday'] = dftest['Date_received'].astype(str).apply(getWeekday)\n",
    " \n",
    "# weekday_type :  周六和周日为1，其他为0\n",
    "dfoff['weekday_type'] = dfoff['weekday'].apply(lambda x : 1 if x in [6,7] else 0 )\n",
    "dftest['weekday_type'] = dftest['weekday'].apply(lambda x : 1 if x in [6,7] else 0 )\n",
    " \n",
    "# change weekday to one-hot encoding \n",
    "weekdaycols = ['weekday_' + str(i) for i in range(1,8)]\n",
    "tmpdf = pd.get_dummies(dfoff['weekday'])\n",
    "tmpdf.columns = weekdaycols\n",
    "dfoff[weekdaycols] = tmpdf\n",
    " \n",
    "tmpdf = pd.get_dummies(dftest['weekday'])\n",
    "tmpdf.columns = weekdaycols\n",
    "dftest[weekdaycols] = tmpdf\n",
    " \n",
    " \n",
    "def label(row):\n",
    "    if pd.isnull(row['Date_received']):\n",
    "        return -1\n",
    "    if pd.notnull(row['Date']):\n",
    "        td = pd.to_datetime(row['Date'], format='%Y%m%d') - pd.to_datetime(row['Date_received'], format='%Y%m%d')\n",
    "        if td <= pd.Timedelta(15, 'D'):\n",
    "            return 1\n",
    "    return 0\n",
    "dfoff['label'] = dfoff.apply(label, axis = 1)\n",
    " \n",
    "print(\"end\")"
   ]
  },
  {
   "cell_type": "code",
   "execution_count": null,
   "metadata": {},
   "outputs": [],
   "source": [
    "print(\"-----data split------\")\n",
    "df = dfoff[dfoff['label'] != -1].copy()\n",
    "train = df[(df['Date_received'] < 20160516)].copy()\n",
    "valid = df[(df['Date_received'] >= 20160516) & (df['Date_received'] <= 20160615)].copy()\n",
    "print(\"end\")"
   ]
  },
  {
   "cell_type": "code",
   "execution_count": 4,
   "metadata": {},
   "outputs": [],
   "source": [
    "# feature\n",
    "original_feature = ['discount_rate','discount_type','discount_man', 'discount_jian','distance', 'weekday', 'weekday_type'] + weekdaycols\n",
    "print(\"----train-----\")\n",
    "model = SGDClassifier(#lambda:\n",
    "    loss='log',  # 损失函数\n",
    "    penalty='elasticnet',  # 结合L1和L2范数\n",
    "    fit_intercept=True,  # 是痘存在截距\n",
    "    max_iter=100, # 循环次数\n",
    "    shuffle=True, # 打乱顺序\n",
    "    alpha=0.01,  # 结合L1和L2范数的参数\n",
    "    l1_ratio=0.01, # 结合L1和L2范数的参数\n",
    "    n_jobs=1, # cpu个数\n",
    "    class_weight=None\n",
    ")\n",
    "model.fit(train[original_feature], train['label'])"
   ]
  },
  {
   "cell_type": "code",
   "execution_count": null,
   "metadata": {},
   "outputs": [],
   "source": [
    "# #### 预测以及结果评价\n",
    "print(model.score(valid[original_feature], valid['label']))\n"
   ]
  },
  {
   "cell_type": "code",
   "execution_count": 4,
   "metadata": {},
   "outputs": [],
   "source": [
    "print(\"---save model---\")\n",
    "with open('1_model.pkl', 'wb') as f:\n",
    "    pickle.dump(model, f)\n",
    "with open('1_model.pkl', 'rb') as f:\n",
    "    model = pickle.load(f)"
   ]
  },
  {
   "cell_type": "code",
   "execution_count": null,
   "metadata": {},
   "outputs": [],
   "source": [
    "# test prediction for submission\n",
    "y_test_pred = model.predict_proba(dftest[original_feature])\n",
    "dftest1 = dftest[['User_id','Coupon_id','Date_received']].copy()\n",
    "dftest1['label'] = y_test_pred[:,1]\n",
    "dftest1.to_csv('submit1.csv', index=False, header=False)\n",
    "dftest1.head()"
   ]
  },
  {
   "cell_type": "code",
   "execution_count": null,
   "metadata": {},
   "outputs": [],
   "source": []
  }
 ],
 "metadata": {
  "kernelspec": {
   "display_name": "Python 2",
   "language": "python",
   "name": "python2"
  },
  "language_info": {
   "codemirror_mode": {
    "name": "ipython",
    "version": 2
   },
   "file_extension": ".py",
   "mimetype": "text/x-python",
   "name": "python",
   "nbconvert_exporter": "python",
   "pygments_lexer": "ipython2",
   "version": "2.7.6"
  }
 },
 "nbformat": 4,
 "nbformat_minor": 0
}
