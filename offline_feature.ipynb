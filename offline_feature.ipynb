{
 "cells": [
  {
   "cell_type": "code",
   "execution_count": 1,
   "metadata": {
    "ExecuteTime": {
     "end_time": "2019-01-02T06:32:21.885677Z",
     "start_time": "2019-01-02T06:32:20.276979Z"
    }
   },
   "outputs": [
    {
     "name": "stdout",
     "output_type": "stream",
     "text": [
      "/Users/apple/PycharmProjects/TianChi/o2o\r\n"
     ]
    }
   ],
   "source": [
    "import numpy as np\n",
    "import pandas as pd\n",
    "import matplotlib.pyplot as plt\n",
    "import os\n",
    "import datetime\n",
    "%matplotlib inline\n",
    "!pwd"
   ]
  },
  {
   "cell_type": "code",
   "execution_count": 2,
   "metadata": {
    "ExecuteTime": {
     "end_time": "2019-01-02T06:32:23.450476Z",
     "start_time": "2019-01-02T06:32:21.889643Z"
    }
   },
   "outputs": [
    {
     "name": "stdout",
     "output_type": "stream",
     "text": [
      "data read end.\n"
     ]
    }
   ],
   "source": [
    "# 数据加载\n",
    "dir_file = 'ccf_o2o_tianchi'\n",
    "offline = pd.read_csv(os.path.join(dir_file, 'ccf_offline_stage1_train.csv'))\n",
    "print('data read end.')"
   ]
  },
  {
   "cell_type": "code",
   "execution_count": 3,
   "metadata": {
    "ExecuteTime": {
     "end_time": "2019-01-02T06:32:26.495146Z",
     "start_time": "2019-01-02T06:32:23.456122Z"
    }
   },
   "outputs": [
    {
     "data": {
      "text/html": [
       "<div>\n",
       "<style scoped>\n",
       "    .dataframe tbody tr th:only-of-type {\n",
       "        vertical-align: middle;\n",
       "    }\n",
       "\n",
       "    .dataframe tbody tr th {\n",
       "        vertical-align: top;\n",
       "    }\n",
       "\n",
       "    .dataframe thead th {\n",
       "        text-align: right;\n",
       "    }\n",
       "</style>\n",
       "<table border=\"1\" class=\"dataframe\">\n",
       "  <thead>\n",
       "    <tr style=\"text-align: right;\">\n",
       "      <th></th>\n",
       "      <th>User_id</th>\n",
       "      <th>Merchant_id</th>\n",
       "      <th>Coupon_id</th>\n",
       "      <th>Discount_rate</th>\n",
       "      <th>Distance</th>\n",
       "      <th>Date_received</th>\n",
       "      <th>Date</th>\n",
       "    </tr>\n",
       "  </thead>\n",
       "  <tbody>\n",
       "    <tr>\n",
       "      <th>0</th>\n",
       "      <td>1439408</td>\n",
       "      <td>2632</td>\n",
       "      <td>NaN</td>\n",
       "      <td>NaN</td>\n",
       "      <td>0.0</td>\n",
       "      <td>NaT</td>\n",
       "      <td>2016-02-17</td>\n",
       "    </tr>\n",
       "    <tr>\n",
       "      <th>1</th>\n",
       "      <td>1439408</td>\n",
       "      <td>4663</td>\n",
       "      <td>11002.0</td>\n",
       "      <td>150:20</td>\n",
       "      <td>1.0</td>\n",
       "      <td>2016-05-28</td>\n",
       "      <td>NaT</td>\n",
       "    </tr>\n",
       "    <tr>\n",
       "      <th>2</th>\n",
       "      <td>1439408</td>\n",
       "      <td>2632</td>\n",
       "      <td>8591.0</td>\n",
       "      <td>20:1</td>\n",
       "      <td>0.0</td>\n",
       "      <td>2016-02-17</td>\n",
       "      <td>NaT</td>\n",
       "    </tr>\n",
       "    <tr>\n",
       "      <th>3</th>\n",
       "      <td>1439408</td>\n",
       "      <td>2632</td>\n",
       "      <td>1078.0</td>\n",
       "      <td>20:1</td>\n",
       "      <td>0.0</td>\n",
       "      <td>2016-03-19</td>\n",
       "      <td>NaT</td>\n",
       "    </tr>\n",
       "    <tr>\n",
       "      <th>4</th>\n",
       "      <td>1439408</td>\n",
       "      <td>2632</td>\n",
       "      <td>8591.0</td>\n",
       "      <td>20:1</td>\n",
       "      <td>0.0</td>\n",
       "      <td>2016-06-13</td>\n",
       "      <td>NaT</td>\n",
       "    </tr>\n",
       "  </tbody>\n",
       "</table>\n",
       "</div>"
      ],
      "text/plain": [
       "   User_id  Merchant_id  Coupon_id Discount_rate  Distance Date_received  \\\n",
       "0  1439408         2632        NaN           NaN       0.0           NaT   \n",
       "1  1439408         4663    11002.0        150:20       1.0    2016-05-28   \n",
       "2  1439408         2632     8591.0          20:1       0.0    2016-02-17   \n",
       "3  1439408         2632     1078.0          20:1       0.0    2016-03-19   \n",
       "4  1439408         2632     8591.0          20:1       0.0    2016-06-13   \n",
       "\n",
       "        Date  \n",
       "0 2016-02-17  \n",
       "1        NaT  \n",
       "2        NaT  \n",
       "3        NaT  \n",
       "4        NaT  "
      ]
     },
     "execution_count": 3,
     "metadata": {},
     "output_type": "execute_result"
    }
   ],
   "source": [
    "#格式化时间\n",
    "offline['Date'] = pd.to_datetime(offline.Date, format='%Y%m%d')\n",
    "offline['Date_received'] = pd.to_datetime(offline.Date_received, format='%Y%m%d')\n",
    "\n",
    "X = offline.copy()\n",
    "X.Distance.fillna(-1, inplace=True)  #将无距离信息设置为-1\n",
    "X.head()"
   ]
  },
  {
   "cell_type": "markdown",
   "metadata": {},
   "source": [
    "## 提取线下有优惠券的用户信息"
   ]
  },
  {
   "cell_type": "code",
   "execution_count": 4,
   "metadata": {
    "ExecuteTime": {
     "end_time": "2019-01-02T06:32:26.818754Z",
     "start_time": "2019-01-02T06:32:26.498632Z"
    }
   },
   "outputs": [
    {
     "data": {
      "text/plain": [
       "539438"
      ]
     },
     "execution_count": 4,
     "metadata": {},
     "output_type": "execute_result"
    }
   ],
   "source": [
    "coupon_id_notnull = offline[offline.Coupon_id.notnull()] #有优惠券数据\n",
    "temp = coupon_id_notnull\n",
    "coupon_consume = temp[temp.Date.notnull()] #有优惠券并消费\n",
    "coupon_no_consume = temp[temp.Date.isnull()] #有优惠券未消费\n",
    "len(offline.User_id.unique())"
   ]
  },
  {
   "cell_type": "markdown",
   "metadata": {},
   "source": [
    "### 有优惠券并消费 coupon_consume_ranking"
   ]
  },
  {
   "cell_type": "code",
   "execution_count": 5,
   "metadata": {
    "ExecuteTime": {
     "end_time": "2019-01-02T06:32:26.853498Z",
     "start_time": "2019-01-02T06:32:26.824964Z"
    }
   },
   "outputs": [
    {
     "name": "stdout",
     "output_type": "stream",
     "text": [
      "(46395, 1)\n"
     ]
    }
   ],
   "source": [
    "user_coupon_consume = coupon_consume.groupby('User_id')\n",
    "temp = user_coupon_consume.size().to_frame('amount_coupon_consume')\n",
    "df_user = temp.copy()\n",
    "df_user.head()\n",
    "print(df_user.shape)"
   ]
  },
  {
   "cell_type": "code",
   "execution_count": 6,
   "metadata": {
    "ExecuteTime": {
     "end_time": "2019-01-02T06:32:26.872544Z",
     "start_time": "2019-01-02T06:32:26.858329Z"
    }
   },
   "outputs": [
    {
     "data": {
      "text/plain": [
       "1      32597\n",
       "2       8579\n",
       "3       2466\n",
       "4       1103\n",
       "5        561\n",
       "6        313\n",
       "7        203\n",
       "8        118\n",
       "9        111\n",
       "10        63\n",
       "11        48\n",
       "12        46\n",
       "13        34\n",
       "15        19\n",
       "16        15\n",
       "14        14\n",
       "17        13\n",
       "18        12\n",
       "23         9\n",
       "24         9\n",
       "21         8\n",
       "19         7\n",
       "27         7\n",
       "25         5\n",
       "22         4\n",
       "26         4\n",
       "28         3\n",
       "34         2\n",
       "35         2\n",
       "30         2\n",
       "40         2\n",
       "41         2\n",
       "20         2\n",
       "71         1\n",
       "38         1\n",
       "73         1\n",
       "93         1\n",
       "36         1\n",
       "113        1\n",
       "54         1\n",
       "118        1\n",
       "56         1\n",
       "33         1\n",
       "29         1\n",
       "32         1\n",
       "Name: amount_coupon_consume, dtype: int64"
      ]
     },
     "execution_count": 6,
     "metadata": {},
     "output_type": "execute_result"
    }
   ],
   "source": [
    "temp['amount_coupon_consume'].value_counts()"
   ]
  },
  {
   "cell_type": "code",
   "execution_count": 7,
   "metadata": {
    "ExecuteTime": {
     "end_time": "2019-01-02T06:32:26.886391Z",
     "start_time": "2019-01-02T06:32:26.877800Z"
    }
   },
   "outputs": [],
   "source": [
    "def ranking(df, list_sorted=None, list_range=[1000, 2]):\n",
    "    ret = df.copy()\n",
    "    if list_sorted == None:\n",
    "        list_range = ret.describe(percentiles=map(lambda x: x/list_range[0], range(1, list_range[0], list_range[1]))).iloc[4:-1]\n",
    "        list_sorted = sorted(list(set(list_range.values.ravel().tolist())))\n",
    "        print('divide into {} rank'.format(len(list_sorted)))\n",
    "    for index, thresh in enumerate(list_sorted):\n",
    "#         print(index, thresh)\n",
    "        if index == 0:\n",
    "            ret[df <= thresh]  = index\n",
    "        else:\n",
    "            ret[(df > list_sorted[index-1]) & (df <= thresh)] = index\n",
    "    ret[df > thresh] = len(list_sorted)\n",
    "    ret = ret.to_frame('ranking')\n",
    "    return ret\n"
   ]
  },
  {
   "cell_type": "code",
   "execution_count": 8,
   "metadata": {
    "ExecuteTime": {
     "end_time": "2019-01-02T06:32:27.456502Z",
     "start_time": "2019-01-02T06:32:26.889966Z"
    }
   },
   "outputs": [
    {
     "name": "stdout",
     "output_type": "stream",
     "text": [
      "divide into 13 rank\n"
     ]
    }
   ],
   "source": [
    "# temp['amount_coupon_consume'].describe(percentiles=map(lambda x: x/1000, range(1, 1000, 2))).iloc[4:-1]\n",
    "temp = ranking(temp['amount_coupon_consume']).rename(columns={'ranking':'amount_coupon_consume_ranking'})"
   ]
  },
  {
   "cell_type": "code",
   "execution_count": 9,
   "metadata": {
    "ExecuteTime": {
     "end_time": "2019-01-02T06:32:27.481816Z",
     "start_time": "2019-01-02T06:32:27.459966Z"
    }
   },
   "outputs": [
    {
     "data": {
      "text/html": [
       "<div>\n",
       "<style scoped>\n",
       "    .dataframe tbody tr th:only-of-type {\n",
       "        vertical-align: middle;\n",
       "    }\n",
       "\n",
       "    .dataframe tbody tr th {\n",
       "        vertical-align: top;\n",
       "    }\n",
       "\n",
       "    .dataframe thead th {\n",
       "        text-align: right;\n",
       "    }\n",
       "</style>\n",
       "<table border=\"1\" class=\"dataframe\">\n",
       "  <thead>\n",
       "    <tr style=\"text-align: right;\">\n",
       "      <th></th>\n",
       "      <th>amount_coupon_consume</th>\n",
       "      <th>amount_coupon_consume_ranking</th>\n",
       "    </tr>\n",
       "    <tr>\n",
       "      <th>User_id</th>\n",
       "      <th></th>\n",
       "      <th></th>\n",
       "    </tr>\n",
       "  </thead>\n",
       "  <tbody>\n",
       "    <tr>\n",
       "      <th>184</th>\n",
       "      <td>1</td>\n",
       "      <td>0</td>\n",
       "    </tr>\n",
       "    <tr>\n",
       "      <th>417</th>\n",
       "      <td>1</td>\n",
       "      <td>0</td>\n",
       "    </tr>\n",
       "    <tr>\n",
       "      <th>687</th>\n",
       "      <td>2</td>\n",
       "      <td>1</td>\n",
       "    </tr>\n",
       "    <tr>\n",
       "      <th>696</th>\n",
       "      <td>4</td>\n",
       "      <td>3</td>\n",
       "    </tr>\n",
       "    <tr>\n",
       "      <th>947</th>\n",
       "      <td>2</td>\n",
       "      <td>1</td>\n",
       "    </tr>\n",
       "  </tbody>\n",
       "</table>\n",
       "</div>"
      ],
      "text/plain": [
       "         amount_coupon_consume  amount_coupon_consume_ranking\n",
       "User_id                                                      \n",
       "184                          1                              0\n",
       "417                          1                              0\n",
       "687                          2                              1\n",
       "696                          4                              3\n",
       "947                          2                              1"
      ]
     },
     "execution_count": 9,
     "metadata": {},
     "output_type": "execute_result"
    }
   ],
   "source": [
    "df_user = df_user.join(temp)\n",
    "df_user.head()"
   ]
  },
  {
   "cell_type": "markdown",
   "metadata": {},
   "source": [
    "### 有优惠券未消费 coupon_no_consume_ranking"
   ]
  },
  {
   "cell_type": "code",
   "execution_count": 10,
   "metadata": {
    "ExecuteTime": {
     "end_time": "2019-01-02T06:32:28.521714Z",
     "start_time": "2019-01-02T06:32:27.484627Z"
    }
   },
   "outputs": [
    {
     "name": "stdout",
     "output_type": "stream",
     "text": [
      "divide into 6 rank\n"
     ]
    },
    {
     "data": {
      "text/plain": [
       "<matplotlib.axes._subplots.AxesSubplot at 0x11f971a20>"
      ]
     },
     "execution_count": 10,
     "metadata": {},
     "output_type": "execute_result"
    },
    {
     "data": {
      "image/png": "[encoded data removed]",
      "text/plain": [
       "<Figure size 432x288 with 1 Axes>"
      ]
     },
     "metadata": {},
     "output_type": "display_data"
    }
   ],
   "source": [
    "temp = coupon_no_consume.groupby('User_id').size().to_frame('amount_coupon_no_consume')\n",
    "df_user1 = temp.copy()\n",
    "temp = ranking(temp['amount_coupon_no_consume'], list_range=[100, 3]).rename(columns={'ranking':'amount_coupon_no_consume_ranking'})\n",
    "df_user1 = df_user1.join(temp)\n",
    "df_user1['amount_coupon_no_consume_ranking'].value_counts().plot.pie()"
   ]
  },
  {
   "cell_type": "code",
   "execution_count": 11,
   "metadata": {
    "ExecuteTime": {
     "end_time": "2019-01-02T06:32:28.601538Z",
     "start_time": "2019-01-02T06:32:28.527084Z"
    },
    "scrolled": true
   },
   "outputs": [
    {
     "name": "stdout",
     "output_type": "stream",
     "text": [
      "(510698, 4)\n"
     ]
    }
   ],
   "source": [
    "df_user = df_user.join(df_user1, how='outer')\n",
    "df_user.head()\n",
    "print(df_user.shape)"
   ]
  },
  {
   "cell_type": "markdown",
   "metadata": {},
   "source": [
    "### 消费次数"
   ]
  },
  {
   "cell_type": "code",
   "execution_count": 12,
   "metadata": {
    "ExecuteTime": {
     "end_time": "2019-01-02T06:32:36.059266Z",
     "start_time": "2019-01-02T06:32:28.604504Z"
    }
   },
   "outputs": [
    {
     "name": "stdout",
     "output_type": "stream",
     "text": [
      "divide into 14 rank\n",
      "divide into 16 rank\n"
     ]
    }
   ],
   "source": [
    "#每个人优惠券总数\n",
    "df_user['total_coupon'] = df_user['amount_coupon_consume'].fillna(0) + df_user['amount_coupon_no_consume'].fillna(0)\n",
    "df_user = df_user.join(ranking(df_user['total_coupon']).rename(columns={'ranking':'total_coupon_ranking'}))\n",
    "#优惠券使用比例\n",
    "df_user['rate_coupon_consume'] = df_user['amount_coupon_consume'].fillna(0) / df_user['total_coupon']\n",
    "df_user = df_user.join(ranking(df_user['rate_coupon_consume']).rename(columns={'ranking':'rate_coupon_consume_ranking'}))"
   ]
  },
  {
   "cell_type": "code",
   "execution_count": 13,
   "metadata": {
    "ExecuteTime": {
     "end_time": "2019-01-02T06:32:36.079512Z",
     "start_time": "2019-01-02T06:32:36.062149Z"
    }
   },
   "outputs": [
    {
     "data": {
      "text/plain": [
       "0.0     464303\n",
       "15.0     13470\n",
       "11.0      9961\n",
       "8.0       6096\n",
       "6.0       4017\n",
       "13.0      2732\n",
       "5.0       2540\n",
       "4.0       1605\n",
       "10.0      1255\n",
       "2.0       1223\n",
       "1.0       1177\n",
       "3.0       1040\n",
       "14.0       652\n",
       "7.0        583\n",
       "9.0         27\n",
       "12.0        17\n",
       "Name: rate_coupon_consume_ranking, dtype: int64"
      ]
     },
     "execution_count": 13,
     "metadata": {},
     "output_type": "execute_result"
    }
   ],
   "source": [
    "df_user.rate_coupon_consume_ranking.value_counts()"
   ]
  },
  {
   "cell_type": "markdown",
   "metadata": {},
   "source": [
    "### 没有用优惠券但进行消费"
   ]
  },
  {
   "cell_type": "code",
   "execution_count": 14,
   "metadata": {
    "ExecuteTime": {
     "end_time": "2019-01-02T06:32:36.436429Z",
     "start_time": "2019-01-02T06:32:36.082168Z"
    }
   },
   "outputs": [
    {
     "name": "stdout",
     "output_type": "stream",
     "text": [
      "(539438, 9)\n"
     ]
    }
   ],
   "source": [
    "no_coupon_consume = offline[offline.Date.notna()]\n",
    "temp = no_coupon_consume.groupby('User_id').size().to_frame('total_consume')\n",
    "df_user = df_user.join(temp, how='outer')\n",
    "df_user.head()\n",
    "print(df_user.shape)"
   ]
  },
  {
   "cell_type": "code",
   "execution_count": 15,
   "metadata": {
    "ExecuteTime": {
     "end_time": "2019-01-02T06:32:37.256722Z",
     "start_time": "2019-01-02T06:32:36.439669Z"
    }
   },
   "outputs": [
    {
     "name": "stdout",
     "output_type": "stream",
     "text": [
      "divide into 12 rank\n",
      "(539438, 10)\n"
     ]
    },
    {
     "data": {
      "image/png": "[encoded data removed]",
      "text/plain": [
       "<Figure size 432x288 with 1 Axes>"
      ]
     },
     "metadata": {},
     "output_type": "display_data"
    }
   ],
   "source": [
    "#消费总数（用优惠券和未用优惠券消费）\n",
    "temp = ranking(df_user['total_consume'], list_range=[100, 2]).rename(columns={'ranking':'total_consume_ranking'})\n",
    "temp.total_consume_ranking.value_counts().plot.pie()\n",
    "df_user = df_user.join(temp)\n",
    "print(df_user.shape)"
   ]
  },
  {
   "cell_type": "code",
   "execution_count": 16,
   "metadata": {
    "ExecuteTime": {
     "end_time": "2019-01-02T06:32:37.274767Z",
     "start_time": "2019-01-02T06:32:37.260243Z"
    }
   },
   "outputs": [
    {
     "name": "stdout",
     "output_type": "stream",
     "text": [
      "(539438, 11)\n"
     ]
    }
   ],
   "source": [
    "#使用优惠券消费 与 所有消费 的 比值\n",
    "temp = df_user['amount_coupon_consume'] / df_user['total_consume']\n",
    "df_user['rate_total_coupon_consume'] = temp\n",
    "print(df_user.shape)"
   ]
  },
  {
   "cell_type": "code",
   "execution_count": 17,
   "metadata": {
    "ExecuteTime": {
     "end_time": "2019-01-02T06:32:37.766885Z",
     "start_time": "2019-01-02T06:32:37.279681Z"
    }
   },
   "outputs": [
    {
     "name": "stdout",
     "output_type": "stream",
     "text": [
      "divide into 10 rank\n",
      "(539438, 12)\n"
     ]
    },
    {
     "data": {
      "image/png": "[encoded data removed]",
      "text/plain": [
       "<Figure size 432x288 with 1 Axes>"
      ]
     },
     "metadata": {},
     "output_type": "display_data"
    }
   ],
   "source": [
    "temp = ranking(df_user['rate_total_coupon_consume'], list_range=[100, 8]).rename(columns={'ranking':'rate_total_coupon_consume_ranking'})\n",
    "temp['rate_total_coupon_consume_ranking'].value_counts().plot.pie()\n",
    "df_user = df_user.join(temp)\n",
    "print(df_user.shape)"
   ]
  },
  {
   "cell_type": "code",
   "execution_count": 18,
   "metadata": {
    "ExecuteTime": {
     "end_time": "2019-01-02T06:32:37.795379Z",
     "start_time": "2019-01-02T06:32:37.769869Z"
    }
   },
   "outputs": [
    {
     "data": {
      "text/html": [
       "<div>\n",
       "<style scoped>\n",
       "    .dataframe tbody tr th:only-of-type {\n",
       "        vertical-align: middle;\n",
       "    }\n",
       "\n",
       "    .dataframe tbody tr th {\n",
       "        vertical-align: top;\n",
       "    }\n",
       "\n",
       "    .dataframe thead th {\n",
       "        text-align: right;\n",
       "    }\n",
       "</style>\n",
       "<table border=\"1\" class=\"dataframe\">\n",
       "  <thead>\n",
       "    <tr style=\"text-align: right;\">\n",
       "      <th></th>\n",
       "      <th>amount_coupon_consume</th>\n",
       "      <th>amount_coupon_consume_ranking</th>\n",
       "      <th>amount_coupon_no_consume</th>\n",
       "      <th>amount_coupon_no_consume_ranking</th>\n",
       "      <th>total_coupon</th>\n",
       "      <th>total_coupon_ranking</th>\n",
       "      <th>rate_coupon_consume</th>\n",
       "      <th>rate_coupon_consume_ranking</th>\n",
       "      <th>total_consume</th>\n",
       "      <th>total_consume_ranking</th>\n",
       "      <th>rate_total_coupon_consume</th>\n",
       "      <th>rate_total_coupon_consume_ranking</th>\n",
       "    </tr>\n",
       "    <tr>\n",
       "      <th>User_id</th>\n",
       "      <th></th>\n",
       "      <th></th>\n",
       "      <th></th>\n",
       "      <th></th>\n",
       "      <th></th>\n",
       "      <th></th>\n",
       "      <th></th>\n",
       "      <th></th>\n",
       "      <th></th>\n",
       "      <th></th>\n",
       "      <th></th>\n",
       "      <th></th>\n",
       "    </tr>\n",
       "  </thead>\n",
       "  <tbody>\n",
       "    <tr>\n",
       "      <th>4</th>\n",
       "      <td>NaN</td>\n",
       "      <td>NaN</td>\n",
       "      <td>2.0</td>\n",
       "      <td>1.0</td>\n",
       "      <td>2.0</td>\n",
       "      <td>1.0</td>\n",
       "      <td>0.0</td>\n",
       "      <td>0.0</td>\n",
       "      <td>NaN</td>\n",
       "      <td>NaN</td>\n",
       "      <td>NaN</td>\n",
       "      <td>NaN</td>\n",
       "    </tr>\n",
       "    <tr>\n",
       "      <th>35</th>\n",
       "      <td>NaN</td>\n",
       "      <td>NaN</td>\n",
       "      <td>4.0</td>\n",
       "      <td>3.0</td>\n",
       "      <td>4.0</td>\n",
       "      <td>3.0</td>\n",
       "      <td>0.0</td>\n",
       "      <td>0.0</td>\n",
       "      <td>NaN</td>\n",
       "      <td>NaN</td>\n",
       "      <td>NaN</td>\n",
       "      <td>NaN</td>\n",
       "    </tr>\n",
       "    <tr>\n",
       "      <th>36</th>\n",
       "      <td>NaN</td>\n",
       "      <td>NaN</td>\n",
       "      <td>2.0</td>\n",
       "      <td>1.0</td>\n",
       "      <td>2.0</td>\n",
       "      <td>1.0</td>\n",
       "      <td>0.0</td>\n",
       "      <td>0.0</td>\n",
       "      <td>NaN</td>\n",
       "      <td>NaN</td>\n",
       "      <td>NaN</td>\n",
       "      <td>NaN</td>\n",
       "    </tr>\n",
       "    <tr>\n",
       "      <th>64</th>\n",
       "      <td>NaN</td>\n",
       "      <td>NaN</td>\n",
       "      <td>1.0</td>\n",
       "      <td>0.0</td>\n",
       "      <td>1.0</td>\n",
       "      <td>0.0</td>\n",
       "      <td>0.0</td>\n",
       "      <td>0.0</td>\n",
       "      <td>NaN</td>\n",
       "      <td>NaN</td>\n",
       "      <td>NaN</td>\n",
       "      <td>NaN</td>\n",
       "    </tr>\n",
       "    <tr>\n",
       "      <th>110</th>\n",
       "      <td>NaN</td>\n",
       "      <td>NaN</td>\n",
       "      <td>3.0</td>\n",
       "      <td>2.0</td>\n",
       "      <td>3.0</td>\n",
       "      <td>2.0</td>\n",
       "      <td>0.0</td>\n",
       "      <td>0.0</td>\n",
       "      <td>NaN</td>\n",
       "      <td>NaN</td>\n",
       "      <td>NaN</td>\n",
       "      <td>NaN</td>\n",
       "    </tr>\n",
       "  </tbody>\n",
       "</table>\n",
       "</div>"
      ],
      "text/plain": [
       "         amount_coupon_consume  amount_coupon_consume_ranking  \\\n",
       "User_id                                                         \n",
       "4                          NaN                            NaN   \n",
       "35                         NaN                            NaN   \n",
       "36                         NaN                            NaN   \n",
       "64                         NaN                            NaN   \n",
       "110                        NaN                            NaN   \n",
       "\n",
       "         amount_coupon_no_consume  amount_coupon_no_consume_ranking  \\\n",
       "User_id                                                               \n",
       "4                             2.0                               1.0   \n",
       "35                            4.0                               3.0   \n",
       "36                            2.0                               1.0   \n",
       "64                            1.0                               0.0   \n",
       "110                           3.0                               2.0   \n",
       "\n",
       "         total_coupon  total_coupon_ranking  rate_coupon_consume  \\\n",
       "User_id                                                            \n",
       "4                 2.0                   1.0                  0.0   \n",
       "35                4.0                   3.0                  0.0   \n",
       "36                2.0                   1.0                  0.0   \n",
       "64                1.0                   0.0                  0.0   \n",
       "110               3.0                   2.0                  0.0   \n",
       "\n",
       "         rate_coupon_consume_ranking  total_consume  total_consume_ranking  \\\n",
       "User_id                                                                      \n",
       "4                                0.0            NaN                    NaN   \n",
       "35                               0.0            NaN                    NaN   \n",
       "36                               0.0            NaN                    NaN   \n",
       "64                               0.0            NaN                    NaN   \n",
       "110                              0.0            NaN                    NaN   \n",
       "\n",
       "         rate_total_coupon_consume  rate_total_coupon_consume_ranking  \n",
       "User_id                                                                \n",
       "4                              NaN                                NaN  \n",
       "35                             NaN                                NaN  \n",
       "36                             NaN                                NaN  \n",
       "64                             NaN                                NaN  \n",
       "110                            NaN                                NaN  "
      ]
     },
     "execution_count": 18,
     "metadata": {},
     "output_type": "execute_result"
    }
   ],
   "source": [
    "df_user.head()"
   ]
  },
  {
   "cell_type": "markdown",
   "metadata": {},
   "source": [
    "### 消费时间平均间隔"
   ]
  },
  {
   "cell_type": "code",
   "execution_count": 19,
   "metadata": {
    "ExecuteTime": {
     "end_time": "2019-01-02T06:32:38.440506Z",
     "start_time": "2019-01-02T06:32:37.798232Z"
    }
   },
   "outputs": [
    {
     "data": {
      "text/html": [
       "<div>\n",
       "<style scoped>\n",
       "    .dataframe tbody tr th:only-of-type {\n",
       "        vertical-align: middle;\n",
       "    }\n",
       "\n",
       "    .dataframe tbody tr th {\n",
       "        vertical-align: top;\n",
       "    }\n",
       "\n",
       "    .dataframe thead th {\n",
       "        text-align: right;\n",
       "    }\n",
       "</style>\n",
       "<table border=\"1\" class=\"dataframe\">\n",
       "  <thead>\n",
       "    <tr style=\"text-align: right;\">\n",
       "      <th></th>\n",
       "      <th>User_id</th>\n",
       "      <th>Merchant_id</th>\n",
       "      <th>Coupon_id</th>\n",
       "      <th>Discount_rate</th>\n",
       "      <th>Distance</th>\n",
       "      <th>Date_received</th>\n",
       "      <th>Date</th>\n",
       "      <th>_max</th>\n",
       "      <th>_min</th>\n",
       "      <th>_len</th>\n",
       "      <th>total_consume_interval</th>\n",
       "    </tr>\n",
       "  </thead>\n",
       "  <tbody>\n",
       "    <tr>\n",
       "      <th>0</th>\n",
       "      <td>1439408</td>\n",
       "      <td>2632</td>\n",
       "      <td>NaN</td>\n",
       "      <td>NaN</td>\n",
       "      <td>0.0</td>\n",
       "      <td>NaT</td>\n",
       "      <td>2016-02-17</td>\n",
       "      <td>2016-06-13</td>\n",
       "      <td>2016-02-17</td>\n",
       "      <td>3</td>\n",
       "      <td>58.5</td>\n",
       "    </tr>\n",
       "    <tr>\n",
       "      <th>5</th>\n",
       "      <td>1439408</td>\n",
       "      <td>2632</td>\n",
       "      <td>NaN</td>\n",
       "      <td>NaN</td>\n",
       "      <td>0.0</td>\n",
       "      <td>NaT</td>\n",
       "      <td>2016-05-16</td>\n",
       "      <td>2016-06-13</td>\n",
       "      <td>2016-02-17</td>\n",
       "      <td>3</td>\n",
       "      <td>58.5</td>\n",
       "    </tr>\n",
       "    <tr>\n",
       "      <th>6</th>\n",
       "      <td>1439408</td>\n",
       "      <td>2632</td>\n",
       "      <td>8591.0</td>\n",
       "      <td>20:1</td>\n",
       "      <td>0.0</td>\n",
       "      <td>2016-05-16</td>\n",
       "      <td>2016-06-13</td>\n",
       "      <td>2016-06-13</td>\n",
       "      <td>2016-02-17</td>\n",
       "      <td>3</td>\n",
       "      <td>58.5</td>\n",
       "    </tr>\n",
       "    <tr>\n",
       "      <th>11</th>\n",
       "      <td>2029232</td>\n",
       "      <td>6459</td>\n",
       "      <td>NaN</td>\n",
       "      <td>NaN</td>\n",
       "      <td>0.0</td>\n",
       "      <td>NaT</td>\n",
       "      <td>2016-06-26</td>\n",
       "      <td>2016-06-26</td>\n",
       "      <td>2016-05-19</td>\n",
       "      <td>2</td>\n",
       "      <td>38.0</td>\n",
       "    </tr>\n",
       "    <tr>\n",
       "      <th>12</th>\n",
       "      <td>2029232</td>\n",
       "      <td>6459</td>\n",
       "      <td>NaN</td>\n",
       "      <td>NaN</td>\n",
       "      <td>0.0</td>\n",
       "      <td>NaT</td>\n",
       "      <td>2016-05-19</td>\n",
       "      <td>2016-06-26</td>\n",
       "      <td>2016-05-19</td>\n",
       "      <td>2</td>\n",
       "      <td>38.0</td>\n",
       "    </tr>\n",
       "  </tbody>\n",
       "</table>\n",
       "</div>"
      ],
      "text/plain": [
       "    User_id  Merchant_id  Coupon_id Discount_rate  Distance Date_received  \\\n",
       "0   1439408         2632        NaN           NaN       0.0           NaT   \n",
       "5   1439408         2632        NaN           NaN       0.0           NaT   \n",
       "6   1439408         2632     8591.0          20:1       0.0    2016-05-16   \n",
       "11  2029232         6459        NaN           NaN       0.0           NaT   \n",
       "12  2029232         6459        NaN           NaN       0.0           NaT   \n",
       "\n",
       "         Date       _max       _min  _len  total_consume_interval  \n",
       "0  2016-02-17 2016-06-13 2016-02-17     3                    58.5  \n",
       "5  2016-05-16 2016-06-13 2016-02-17     3                    58.5  \n",
       "6  2016-06-13 2016-06-13 2016-02-17     3                    58.5  \n",
       "11 2016-06-26 2016-06-26 2016-05-19     2                    38.0  \n",
       "12 2016-05-19 2016-06-26 2016-05-19     2                    38.0  "
      ]
     },
     "execution_count": 19,
     "metadata": {},
     "output_type": "execute_result"
    }
   ],
   "source": [
    "# 用户所有消费时间平均间隔\n",
    "temp = offline[offline.Date.notnull()].copy()\n",
    "temp['_max'] = temp.groupby('User_id').Date.transform('max')\n",
    "temp['_min'] = temp.groupby('User_id').Date.transform('min')\n",
    "temp['_len'] = temp.groupby('User_id').Date.transform('count')\n",
    "temp['total_consume_interval'] = (temp._max - temp._min).dt.days / (temp._len - 1)\n",
    "temp.head()\n",
    "# temp.unique()"
   ]
  },
  {
   "cell_type": "code",
   "execution_count": 20,
   "metadata": {
    "ExecuteTime": {
     "end_time": "2019-01-02T06:32:39.264479Z",
     "start_time": "2019-01-02T06:32:38.443247Z"
    }
   },
   "outputs": [
    {
     "name": "stdout",
     "output_type": "stream",
     "text": [
      "divide into 14 rank\n"
     ]
    },
    {
     "data": {
      "text/html": [
       "<div>\n",
       "<style scoped>\n",
       "    .dataframe tbody tr th:only-of-type {\n",
       "        vertical-align: middle;\n",
       "    }\n",
       "\n",
       "    .dataframe tbody tr th {\n",
       "        vertical-align: top;\n",
       "    }\n",
       "\n",
       "    .dataframe thead th {\n",
       "        text-align: right;\n",
       "    }\n",
       "</style>\n",
       "<table border=\"1\" class=\"dataframe\">\n",
       "  <thead>\n",
       "    <tr style=\"text-align: right;\">\n",
       "      <th></th>\n",
       "      <th>User_id</th>\n",
       "      <th>Merchant_id</th>\n",
       "      <th>Coupon_id</th>\n",
       "      <th>Discount_rate</th>\n",
       "      <th>Distance</th>\n",
       "      <th>Date_received</th>\n",
       "      <th>Date</th>\n",
       "      <th>_max</th>\n",
       "      <th>_min</th>\n",
       "      <th>_len</th>\n",
       "      <th>total_consume_interval</th>\n",
       "      <th>total_consume_interval_ranking</th>\n",
       "    </tr>\n",
       "  </thead>\n",
       "  <tbody>\n",
       "    <tr>\n",
       "      <th>0</th>\n",
       "      <td>1439408</td>\n",
       "      <td>2632</td>\n",
       "      <td>NaN</td>\n",
       "      <td>NaN</td>\n",
       "      <td>0.0</td>\n",
       "      <td>NaT</td>\n",
       "      <td>2016-02-17</td>\n",
       "      <td>2016-06-13</td>\n",
       "      <td>2016-02-17</td>\n",
       "      <td>3</td>\n",
       "      <td>58.5</td>\n",
       "      <td>13.0</td>\n",
       "    </tr>\n",
       "    <tr>\n",
       "      <th>5</th>\n",
       "      <td>1439408</td>\n",
       "      <td>2632</td>\n",
       "      <td>NaN</td>\n",
       "      <td>NaN</td>\n",
       "      <td>0.0</td>\n",
       "      <td>NaT</td>\n",
       "      <td>2016-05-16</td>\n",
       "      <td>2016-06-13</td>\n",
       "      <td>2016-02-17</td>\n",
       "      <td>3</td>\n",
       "      <td>58.5</td>\n",
       "      <td>13.0</td>\n",
       "    </tr>\n",
       "    <tr>\n",
       "      <th>6</th>\n",
       "      <td>1439408</td>\n",
       "      <td>2632</td>\n",
       "      <td>8591.0</td>\n",
       "      <td>20:1</td>\n",
       "      <td>0.0</td>\n",
       "      <td>2016-05-16</td>\n",
       "      <td>2016-06-13</td>\n",
       "      <td>2016-06-13</td>\n",
       "      <td>2016-02-17</td>\n",
       "      <td>3</td>\n",
       "      <td>58.5</td>\n",
       "      <td>13.0</td>\n",
       "    </tr>\n",
       "    <tr>\n",
       "      <th>11</th>\n",
       "      <td>2029232</td>\n",
       "      <td>6459</td>\n",
       "      <td>NaN</td>\n",
       "      <td>NaN</td>\n",
       "      <td>0.0</td>\n",
       "      <td>NaT</td>\n",
       "      <td>2016-06-26</td>\n",
       "      <td>2016-06-26</td>\n",
       "      <td>2016-05-19</td>\n",
       "      <td>2</td>\n",
       "      <td>38.0</td>\n",
       "      <td>13.0</td>\n",
       "    </tr>\n",
       "    <tr>\n",
       "      <th>12</th>\n",
       "      <td>2029232</td>\n",
       "      <td>6459</td>\n",
       "      <td>NaN</td>\n",
       "      <td>NaN</td>\n",
       "      <td>0.0</td>\n",
       "      <td>NaT</td>\n",
       "      <td>2016-05-19</td>\n",
       "      <td>2016-06-26</td>\n",
       "      <td>2016-05-19</td>\n",
       "      <td>2</td>\n",
       "      <td>38.0</td>\n",
       "      <td>13.0</td>\n",
       "    </tr>\n",
       "  </tbody>\n",
       "</table>\n",
       "</div>"
      ],
      "text/plain": [
       "    User_id  Merchant_id  Coupon_id Discount_rate  Distance Date_received  \\\n",
       "0   1439408         2632        NaN           NaN       0.0           NaT   \n",
       "5   1439408         2632        NaN           NaN       0.0           NaT   \n",
       "6   1439408         2632     8591.0          20:1       0.0    2016-05-16   \n",
       "11  2029232         6459        NaN           NaN       0.0           NaT   \n",
       "12  2029232         6459        NaN           NaN       0.0           NaT   \n",
       "\n",
       "         Date       _max       _min  _len  total_consume_interval  \\\n",
       "0  2016-02-17 2016-06-13 2016-02-17     3                    58.5   \n",
       "5  2016-05-16 2016-06-13 2016-02-17     3                    58.5   \n",
       "6  2016-06-13 2016-06-13 2016-02-17     3                    58.5   \n",
       "11 2016-06-26 2016-06-26 2016-05-19     2                    38.0   \n",
       "12 2016-05-19 2016-06-26 2016-05-19     2                    38.0   \n",
       "\n",
       "    total_consume_interval_ranking  \n",
       "0                             13.0  \n",
       "5                             13.0  \n",
       "6                             13.0  \n",
       "11                            13.0  \n",
       "12                            13.0  "
      ]
     },
     "execution_count": 20,
     "metadata": {},
     "output_type": "execute_result"
    },
    {
     "data": {
      "image/png": "[encoded data removed]",
      "text/plain": [
       "<Figure size 432x288 with 1 Axes>"
      ]
     },
     "metadata": {},
     "output_type": "display_data"
    }
   ],
   "source": [
    "temp1 = ranking(temp['total_consume_interval'], list_range=[100 ,8]).rename(columns={'ranking':'total_consume_interval_ranking'})\n",
    "temp = temp.join(temp1)\n",
    "temp1.total_consume_interval_ranking.value_counts().plot.pie()\n",
    "temp.head()"
   ]
  },
  {
   "cell_type": "code",
   "execution_count": 21,
   "metadata": {
    "ExecuteTime": {
     "end_time": "2019-01-02T06:32:39.590725Z",
     "start_time": "2019-01-02T06:32:39.267608Z"
    }
   },
   "outputs": [
    {
     "name": "stdout",
     "output_type": "stream",
     "text": [
      "(539438, 14)\n"
     ]
    }
   ],
   "source": [
    "df_user = df_user.join(temp.drop_duplicates('User_id').set_index('User_id')[['total_consume_interval', 'total_consume_interval_ranking']])\n",
    "df_user.head()\n",
    "print(df_user.shape)"
   ]
  },
  {
   "cell_type": "code",
   "execution_count": 22,
   "metadata": {
    "ExecuteTime": {
     "end_time": "2019-01-02T06:32:39.597921Z",
     "start_time": "2019-01-02T06:32:39.593766Z"
    }
   },
   "outputs": [],
   "source": [
    "# temp.set_index('User_id')[['total_consume_interval', 'total_consume_interval_ranking']]"
   ]
  },
  {
   "cell_type": "code",
   "execution_count": 23,
   "metadata": {
    "ExecuteTime": {
     "end_time": "2019-01-02T06:32:40.679793Z",
     "start_time": "2019-01-02T06:32:39.603808Z"
    }
   },
   "outputs": [
    {
     "name": "stdout",
     "output_type": "stream",
     "text": [
      "divide into 14 rank\n"
     ]
    },
    {
     "data": {
      "image/png": "[encoded data removed]",
      "text/plain": [
       "<Figure size 432x288 with 1 Axes>"
      ]
     },
     "metadata": {},
     "output_type": "display_data"
    }
   ],
   "source": [
    "#用户没有用优惠券但消费 平均时间间隔\n",
    "temp = no_coupon_consume.copy()\n",
    "tmp = temp.groupby('User_id').Date\n",
    "temp['_max'] = tmp.transform('max')\n",
    "temp['_min'] = tmp.transform('min')\n",
    "temp['_count'] = tmp.transform('count')\n",
    "temp['no_conpon_consume_interval'] = (temp._max - temp._min).dt.days / (temp._count - 1)\n",
    "temp1 = ranking(temp['no_conpon_consume_interval'], list_range=[100, 8]).rename(columns={'ranking':'no_conpon_consume_interval_ranking'})\n",
    "temp1.no_conpon_consume_interval_ranking.value_counts().plot.pie()\n",
    "temp = temp.join(temp1)"
   ]
  },
  {
   "cell_type": "code",
   "execution_count": 24,
   "metadata": {
    "ExecuteTime": {
     "end_time": "2019-01-02T06:32:41.034273Z",
     "start_time": "2019-01-02T06:32:40.682823Z"
    }
   },
   "outputs": [
    {
     "name": "stdout",
     "output_type": "stream",
     "text": [
      "(539438, 16)\n"
     ]
    }
   ],
   "source": [
    "# temp.head()\n",
    "df_user = df_user.join(temp.drop_duplicates('User_id').set_index('User_id')[['no_conpon_consume_interval', 'no_conpon_consume_interval_ranking']])\n",
    "df_user.head()\n",
    "print(df_user.shape)"
   ]
  },
  {
   "cell_type": "code",
   "execution_count": 25,
   "metadata": {
    "ExecuteTime": {
     "end_time": "2019-01-02T06:32:41.454539Z",
     "start_time": "2019-01-02T06:32:41.037072Z"
    }
   },
   "outputs": [
    {
     "name": "stdout",
     "output_type": "stream",
     "text": [
      "divide into 14 rank\n"
     ]
    },
    {
     "data": {
      "text/plain": [
       "<matplotlib.axes._subplots.AxesSubplot at 0x12e1e6c88>"
      ]
     },
     "execution_count": 25,
     "metadata": {},
     "output_type": "execute_result"
    },
    {
     "data": {
      "image/png": "[encoded data removed]",
      "text/plain": [
       "<Figure size 432x288 with 1 Axes>"
      ]
     },
     "metadata": {},
     "output_type": "display_data"
    }
   ],
   "source": [
    "#用户优惠券消费平均间隔\n",
    "temp = coupon_consume.copy()\n",
    "temp1 = temp.groupby('User_id').Date\n",
    "temp['_max'] = temp1.transform('max')\n",
    "temp['_min'] = temp1.transform('min')\n",
    "temp['_count'] = temp1.transform('count')\n",
    "temp['coupon_consume_interval'] = (temp._max - temp._min).dt.days / (temp._count - 1)\n",
    "temp = temp.join(ranking(temp['coupon_consume_interval'], list_range=[100, 8]).rename(columns={'ranking':'coupon_consume_interval_ranking'}))\n",
    "temp.coupon_consume_interval_ranking.value_counts().plot.pie()\n"
   ]
  },
  {
   "cell_type": "code",
   "execution_count": 26,
   "metadata": {
    "ExecuteTime": {
     "end_time": "2019-01-02T06:32:41.608800Z",
     "start_time": "2019-01-02T06:32:41.457430Z"
    }
   },
   "outputs": [
    {
     "name": "stdout",
     "output_type": "stream",
     "text": [
      "(539438, 18)\n"
     ]
    }
   ],
   "source": [
    "df_user = df_user.join(temp.drop_duplicates('User_id').set_index('User_id')[['coupon_consume_interval', 'coupon_consume_interval_ranking']])\n",
    "df_user.head()\n",
    "print(df_user.shape)"
   ]
  },
  {
   "cell_type": "code",
   "execution_count": 27,
   "metadata": {
    "ExecuteTime": {
     "end_time": "2019-01-02T06:32:42.079974Z",
     "start_time": "2019-01-02T06:32:41.612041Z"
    }
   },
   "outputs": [
    {
     "name": "stdout",
     "output_type": "stream",
     "text": [
      "divide into 17 rank\n"
     ]
    },
    {
     "data": {
      "text/plain": [
       "<matplotlib.axes._subplots.AxesSubplot at 0x1189e8400>"
      ]
     },
     "execution_count": 27,
     "metadata": {},
     "output_type": "execute_result"
    },
    {
     "data": {
      "image/png": "[encoded data removed]",
      "text/plain": [
       "<Figure size 432x288 with 1 Axes>"
      ]
     },
     "metadata": {},
     "output_type": "display_data"
    }
   ],
   "source": [
    "#用户优惠券领取到使用到平均间隔\n",
    "temp = coupon_consume.copy()\n",
    "temp['days'] = (temp.Date - temp.Date_received).dt.days\n",
    "temp = (temp.groupby('User_id').days.sum() / temp.groupby('User_id').size()).to_frame('coupon_to_consume_interval')\n",
    "temp = temp.join(ranking(temp['coupon_to_consume_interval'], list_range=[100 ,5]).rename(columns={'ranking':'coupon_to_consume_interval_ranking'}))\n",
    "# temp.drop_duplicates('User_id', inplace=True)\n",
    "temp.coupon_to_consume_interval_ranking.value_counts().plot.pie()\n",
    "# temp.head()"
   ]
  },
  {
   "cell_type": "code",
   "execution_count": 28,
   "metadata": {
    "ExecuteTime": {
     "end_time": "2019-01-02T06:32:42.203514Z",
     "start_time": "2019-01-02T06:32:42.083108Z"
    }
   },
   "outputs": [
    {
     "name": "stdout",
     "output_type": "stream",
     "text": [
      "(539438, 20)\n"
     ]
    }
   ],
   "source": [
    "df_user = df_user.join(temp)\n",
    "df_user.head()\n",
    "print(df_user.shape)"
   ]
  },
  {
   "cell_type": "markdown",
   "metadata": {},
   "source": [
    "### 折扣转换"
   ]
  },
  {
   "cell_type": "code",
   "execution_count": 29,
   "metadata": {
    "ExecuteTime": {
     "end_time": "2019-01-02T06:32:46.352057Z",
     "start_time": "2019-01-02T06:32:42.206618Z"
    }
   },
   "outputs": [
    {
     "data": {
      "text/html": [
       "<div>\n",
       "<style scoped>\n",
       "    .dataframe tbody tr th:only-of-type {\n",
       "        vertical-align: middle;\n",
       "    }\n",
       "\n",
       "    .dataframe tbody tr th {\n",
       "        vertical-align: top;\n",
       "    }\n",
       "\n",
       "    .dataframe thead th {\n",
       "        text-align: right;\n",
       "    }\n",
       "</style>\n",
       "<table border=\"1\" class=\"dataframe\">\n",
       "  <thead>\n",
       "    <tr style=\"text-align: right;\">\n",
       "      <th></th>\n",
       "      <th>User_id</th>\n",
       "      <th>Merchant_id</th>\n",
       "      <th>Coupon_id</th>\n",
       "      <th>Discount_rate</th>\n",
       "      <th>Distance</th>\n",
       "      <th>Date_received</th>\n",
       "      <th>Date</th>\n",
       "      <th>discount_rate</th>\n",
       "      <th>discount_type</th>\n",
       "    </tr>\n",
       "  </thead>\n",
       "  <tbody>\n",
       "    <tr>\n",
       "      <th>0</th>\n",
       "      <td>1439408</td>\n",
       "      <td>2632</td>\n",
       "      <td>NaN</td>\n",
       "      <td>NaN</td>\n",
       "      <td>0.0</td>\n",
       "      <td>NaT</td>\n",
       "      <td>2016-02-17</td>\n",
       "      <td>1.000000</td>\n",
       "      <td>NaN</td>\n",
       "    </tr>\n",
       "    <tr>\n",
       "      <th>1</th>\n",
       "      <td>1439408</td>\n",
       "      <td>4663</td>\n",
       "      <td>11002.0</td>\n",
       "      <td>150:20</td>\n",
       "      <td>1.0</td>\n",
       "      <td>2016-05-28</td>\n",
       "      <td>NaT</td>\n",
       "      <td>0.866667</td>\n",
       "      <td>1.0</td>\n",
       "    </tr>\n",
       "    <tr>\n",
       "      <th>2</th>\n",
       "      <td>1439408</td>\n",
       "      <td>2632</td>\n",
       "      <td>8591.0</td>\n",
       "      <td>20:1</td>\n",
       "      <td>0.0</td>\n",
       "      <td>2016-02-17</td>\n",
       "      <td>NaT</td>\n",
       "      <td>0.950000</td>\n",
       "      <td>1.0</td>\n",
       "    </tr>\n",
       "    <tr>\n",
       "      <th>3</th>\n",
       "      <td>1439408</td>\n",
       "      <td>2632</td>\n",
       "      <td>1078.0</td>\n",
       "      <td>20:1</td>\n",
       "      <td>0.0</td>\n",
       "      <td>2016-03-19</td>\n",
       "      <td>NaT</td>\n",
       "      <td>0.950000</td>\n",
       "      <td>1.0</td>\n",
       "    </tr>\n",
       "    <tr>\n",
       "      <th>4</th>\n",
       "      <td>1439408</td>\n",
       "      <td>2632</td>\n",
       "      <td>8591.0</td>\n",
       "      <td>20:1</td>\n",
       "      <td>0.0</td>\n",
       "      <td>2016-06-13</td>\n",
       "      <td>NaT</td>\n",
       "      <td>0.950000</td>\n",
       "      <td>1.0</td>\n",
       "    </tr>\n",
       "  </tbody>\n",
       "</table>\n",
       "</div>"
      ],
      "text/plain": [
       "   User_id  Merchant_id  Coupon_id Discount_rate  Distance Date_received  \\\n",
       "0  1439408         2632        NaN           NaN       0.0           NaT   \n",
       "1  1439408         4663    11002.0        150:20       1.0    2016-05-28   \n",
       "2  1439408         2632     8591.0          20:1       0.0    2016-02-17   \n",
       "3  1439408         2632     1078.0          20:1       0.0    2016-03-19   \n",
       "4  1439408         2632     8591.0          20:1       0.0    2016-06-13   \n",
       "\n",
       "        Date  discount_rate  discount_type  \n",
       "0 2016-02-17       1.000000            NaN  \n",
       "1        NaT       0.866667            1.0  \n",
       "2        NaT       0.950000            1.0  \n",
       "3        NaT       0.950000            1.0  \n",
       "4        NaT       0.950000            1.0  "
      ]
     },
     "execution_count": 29,
     "metadata": {},
     "output_type": "execute_result"
    }
   ],
   "source": [
    "# 1. 将满xx减yy类型(`xx:yy`)的券变成折扣率 : `1 - yy/xx`，同时建立折扣券相关的特征 \n",
    "# `discount_rate, discount_man, discount_jian, discount_type`\n",
    "# 2. 将距离 `str` 转为 `int`\n",
    "# convert Discount_rate and Distance\n",
    "\n",
    "def getDiscountType(row):\n",
    "    if pd.isnull(row):\n",
    "        return np.nan\n",
    "    elif ':' in row:\n",
    "        return 1\n",
    "    else:\n",
    "        return 0\n",
    "\n",
    "def convertRate(row):\n",
    "    if pd.isnull(row):\n",
    "        return 1.0\n",
    "    elif ':' in str(row):\n",
    "        rows = str(row).split(':')\n",
    "        return 1.0 - float(rows[1])/float(rows[0])\n",
    "    else:\n",
    "        return float(row)\n",
    "\n",
    "def getDiscountMan(row):\n",
    "    if ':' in str(row):\n",
    "        rows = str(row).split(':')\n",
    "        return int(rows[0])\n",
    "    else:\n",
    "        return 0\n",
    "\n",
    "def getDiscountJian(row):\n",
    "    if ':' in str(row):\n",
    "        rows = str(row).split(':')\n",
    "        return int(rows[1])\n",
    "    else:\n",
    "        return 0\n",
    "\n",
    "def processData(df):\n",
    "    df['discount_rate'] = df['Discount_rate'].apply(convertRate)\n",
    "    #测试集出现了500:30在训练集中没有\n",
    "#     df['discount_man'] = df['Discount_rate'].apply(getDiscountMan)\n",
    "#     df['discount_jian'] = df['Discount_rate'].apply(getDiscountJian)\n",
    "    df['discount_type'] = df['Discount_rate'].apply(getDiscountType)\n",
    "    return df\n",
    "\n",
    "X = processData(X)\n",
    "X.head()"
   ]
  },
  {
   "cell_type": "markdown",
   "metadata": {},
   "source": [
    "### label 小于15天消费为1"
   ]
  },
  {
   "cell_type": "code",
   "execution_count": 30,
   "metadata": {
    "ExecuteTime": {
     "end_time": "2019-01-02T06:32:46.686758Z",
     "start_time": "2019-01-02T06:32:46.355222Z"
    }
   },
   "outputs": [
    {
     "name": "stderr",
     "output_type": "stream",
     "text": [
      "/Library/Frameworks/Python.framework/Versions/3.6/lib/python3.6/site-packages/ipykernel_launcher.py:2: SettingWithCopyWarning: \n",
      "A value is trying to be set on a copy of a slice from a DataFrame\n",
      "\n",
      "See the caveats in the documentation: http://pandas.pydata.org/pandas-docs/stable/indexing.html#indexing-view-versus-copy\n",
      "  \n"
     ]
    },
    {
     "data": {
      "text/html": [
       "<div>\n",
       "<style scoped>\n",
       "    .dataframe tbody tr th:only-of-type {\n",
       "        vertical-align: middle;\n",
       "    }\n",
       "\n",
       "    .dataframe tbody tr th {\n",
       "        vertical-align: top;\n",
       "    }\n",
       "\n",
       "    .dataframe thead th {\n",
       "        text-align: right;\n",
       "    }\n",
       "</style>\n",
       "<table border=\"1\" class=\"dataframe\">\n",
       "  <thead>\n",
       "    <tr style=\"text-align: right;\">\n",
       "      <th></th>\n",
       "      <th>User_id</th>\n",
       "      <th>Merchant_id</th>\n",
       "      <th>Coupon_id</th>\n",
       "      <th>Discount_rate</th>\n",
       "      <th>Distance</th>\n",
       "      <th>Date_received</th>\n",
       "      <th>Date</th>\n",
       "      <th>discount_rate</th>\n",
       "      <th>discount_type</th>\n",
       "      <th>label</th>\n",
       "    </tr>\n",
       "  </thead>\n",
       "  <tbody>\n",
       "    <tr>\n",
       "      <th>0</th>\n",
       "      <td>1439408</td>\n",
       "      <td>2632</td>\n",
       "      <td>NaN</td>\n",
       "      <td>NaN</td>\n",
       "      <td>0.0</td>\n",
       "      <td>NaT</td>\n",
       "      <td>2016-02-17</td>\n",
       "      <td>1.000000</td>\n",
       "      <td>NaN</td>\n",
       "      <td>0</td>\n",
       "    </tr>\n",
       "    <tr>\n",
       "      <th>1</th>\n",
       "      <td>1439408</td>\n",
       "      <td>4663</td>\n",
       "      <td>11002.0</td>\n",
       "      <td>150:20</td>\n",
       "      <td>1.0</td>\n",
       "      <td>2016-05-28</td>\n",
       "      <td>NaT</td>\n",
       "      <td>0.866667</td>\n",
       "      <td>1.0</td>\n",
       "      <td>0</td>\n",
       "    </tr>\n",
       "    <tr>\n",
       "      <th>2</th>\n",
       "      <td>1439408</td>\n",
       "      <td>2632</td>\n",
       "      <td>8591.0</td>\n",
       "      <td>20:1</td>\n",
       "      <td>0.0</td>\n",
       "      <td>2016-02-17</td>\n",
       "      <td>NaT</td>\n",
       "      <td>0.950000</td>\n",
       "      <td>1.0</td>\n",
       "      <td>0</td>\n",
       "    </tr>\n",
       "    <tr>\n",
       "      <th>3</th>\n",
       "      <td>1439408</td>\n",
       "      <td>2632</td>\n",
       "      <td>1078.0</td>\n",
       "      <td>20:1</td>\n",
       "      <td>0.0</td>\n",
       "      <td>2016-03-19</td>\n",
       "      <td>NaT</td>\n",
       "      <td>0.950000</td>\n",
       "      <td>1.0</td>\n",
       "      <td>0</td>\n",
       "    </tr>\n",
       "    <tr>\n",
       "      <th>4</th>\n",
       "      <td>1439408</td>\n",
       "      <td>2632</td>\n",
       "      <td>8591.0</td>\n",
       "      <td>20:1</td>\n",
       "      <td>0.0</td>\n",
       "      <td>2016-06-13</td>\n",
       "      <td>NaT</td>\n",
       "      <td>0.950000</td>\n",
       "      <td>1.0</td>\n",
       "      <td>0</td>\n",
       "    </tr>\n",
       "  </tbody>\n",
       "</table>\n",
       "</div>"
      ],
      "text/plain": [
       "   User_id  Merchant_id  Coupon_id Discount_rate  Distance Date_received  \\\n",
       "0  1439408         2632        NaN           NaN       0.0           NaT   \n",
       "1  1439408         4663    11002.0        150:20       1.0    2016-05-28   \n",
       "2  1439408         2632     8591.0          20:1       0.0    2016-02-17   \n",
       "3  1439408         2632     1078.0          20:1       0.0    2016-03-19   \n",
       "4  1439408         2632     8591.0          20:1       0.0    2016-06-13   \n",
       "\n",
       "        Date  discount_rate  discount_type  label  \n",
       "0 2016-02-17       1.000000            NaN      0  \n",
       "1        NaT       0.866667            1.0      0  \n",
       "2        NaT       0.950000            1.0      0  \n",
       "3        NaT       0.950000            1.0      0  \n",
       "4        NaT       0.950000            1.0      0  "
      ]
     },
     "execution_count": 30,
     "metadata": {},
     "output_type": "execute_result"
    }
   ],
   "source": [
    "X['label'] = 0\n",
    "X['label'][(X.Date - X.Date_received).dt.days < 15] = 1\n",
    "X.head()"
   ]
  },
  {
   "cell_type": "markdown",
   "metadata": {},
   "source": [
    "### 商家信息"
   ]
  },
  {
   "cell_type": "code",
   "execution_count": 31,
   "metadata": {
    "ExecuteTime": {
     "end_time": "2019-01-02T06:32:46.917865Z",
     "start_time": "2019-01-02T06:32:46.690276Z"
    }
   },
   "outputs": [
    {
     "name": "stdout",
     "output_type": "stream",
     "text": [
      "divide into 21 rank\n",
      "(8321, 2)\n"
     ]
    }
   ],
   "source": [
    "#商家销售次数\n",
    "df_mer = offline[offline.Date.notna()].groupby('Merchant_id').size().to_frame('mer_sell')\n",
    "df_mer = df_mer.join(ranking(df_mer['mer_sell'], list_range=[100, 5]).rename(columns={'ranking':'mer_sell_ranking'}))\n",
    "df_mer.head()\n",
    "print(df_mer.shape)"
   ]
  },
  {
   "cell_type": "code",
   "execution_count": 32,
   "metadata": {
    "ExecuteTime": {
     "end_time": "2019-01-02T06:32:46.949436Z",
     "start_time": "2019-01-02T06:32:46.920534Z"
    }
   },
   "outputs": [
    {
     "data": {
      "text/plain": [
       "8415"
      ]
     },
     "execution_count": 32,
     "metadata": {},
     "output_type": "execute_result"
    }
   ],
   "source": [
    "len(offline.Merchant_id.unique())"
   ]
  },
  {
   "cell_type": "code",
   "execution_count": 33,
   "metadata": {
    "ExecuteTime": {
     "end_time": "2019-01-02T06:32:47.022286Z",
     "start_time": "2019-01-02T06:32:46.952543Z"
    }
   },
   "outputs": [
    {
     "name": "stdout",
     "output_type": "stream",
     "text": [
      "divide into 10 rank\n",
      "(8321, 4)\n"
     ]
    }
   ],
   "source": [
    "#商家优惠券核销次数\n",
    "temp = coupon_consume.groupby('Merchant_id').size().to_frame('mer_sell_coupon')\n",
    "temp = temp.join(ranking(temp['mer_sell_coupon'], list_range=[100, 5]).rename(columns={'ranking':'mer_sell_coupon_ranking'}))\n",
    "df_mer = df_mer.join(temp, how='outer')\n",
    "df_mer.head()\n",
    "print(df_mer.shape)"
   ]
  },
  {
   "cell_type": "code",
   "execution_count": 34,
   "metadata": {
    "ExecuteTime": {
     "end_time": "2019-01-02T06:32:47.308297Z",
     "start_time": "2019-01-02T06:32:47.025038Z"
    }
   },
   "outputs": [
    {
     "name": "stdout",
     "output_type": "stream",
     "text": [
      "divide into 9 rank\n"
     ]
    },
    {
     "data": {
      "text/plain": [
       "<matplotlib.axes._subplots.AxesSubplot at 0x10e352cf8>"
      ]
     },
     "execution_count": 34,
     "metadata": {},
     "output_type": "execute_result"
    },
    {
     "data": {
      "image/png": "[encoded data removed]",
      "text/plain": [
       "<Figure size 432x288 with 1 Axes>"
      ]
     },
     "metadata": {},
     "output_type": "display_data"
    }
   ],
   "source": [
    "#商家优惠券核销占全部的比例\n",
    "df_mer['rate_mer_sell_coupon'] = df_mer.mer_sell / df_mer.mer_sell_coupon\n",
    "df_mer['rate_mer_sell_coupon_ranking'] = ranking(df_mer['rate_mer_sell_coupon'], list_range=[10, 1])['ranking']\n",
    "df_mer['rate_mer_sell_coupon_ranking'].value_counts().plot.pie()"
   ]
  },
  {
   "cell_type": "code",
   "execution_count": 35,
   "metadata": {
    "ExecuteTime": {
     "end_time": "2019-01-02T06:32:47.637788Z",
     "start_time": "2019-01-02T06:32:47.311263Z"
    }
   },
   "outputs": [
    {
     "name": "stdout",
     "output_type": "stream",
     "text": [
      "divide into 9 rank\n"
     ]
    },
    {
     "data": {
      "text/plain": [
       "<matplotlib.axes._subplots.AxesSubplot at 0x11f4cd240>"
      ]
     },
     "execution_count": 35,
     "metadata": {},
     "output_type": "execute_result"
    },
    {
     "data": {
      "image/png": "[encoded data removed]",
      "text/plain": [
       "<Figure size 432x288 with 1 Axes>"
      ]
     },
     "metadata": {},
     "output_type": "display_data"
    }
   ],
   "source": [
    "#商家在数据集中出现的次数\n",
    "temp = offline.groupby('Merchant_id').size().to_frame('mer_total')\n",
    "temp = temp.join(ranking(temp['mer_total'], list_range=[10, 1]).rename(columns={'ranking':'mer_total_ranking'}))\n",
    "temp.mer_total_ranking.value_counts().plot.pie()"
   ]
  },
  {
   "cell_type": "code",
   "execution_count": 36,
   "metadata": {
    "ExecuteTime": {
     "end_time": "2019-01-02T06:32:47.941003Z",
     "start_time": "2019-01-02T06:32:47.641434Z"
    }
   },
   "outputs": [
    {
     "name": "stdout",
     "output_type": "stream",
     "text": [
      "divide into 9 rank\n"
     ]
    },
    {
     "data": {
      "text/plain": [
       "<matplotlib.axes._subplots.AxesSubplot at 0x11ac01da0>"
      ]
     },
     "execution_count": 36,
     "metadata": {},
     "output_type": "execute_result"
    },
    {
     "data": {
      "image/png": "[encoded data removed]",
      "text/plain": [
       "<Figure size 432x288 with 1 Axes>"
      ]
     },
     "metadata": {},
     "output_type": "display_data"
    }
   ],
   "source": [
    "temp = df_mer.join(temp, how='outer')\n",
    "#商家优惠券销售占出现次数比例\n",
    "temp['mer_rate_total_coupon'] = temp.mer_sell_coupon / temp.mer_total\n",
    "temp = temp.join(ranking(temp['mer_rate_total_coupon'], list_range=[10, 1]).rename(columns={'ranking':'mer_rate_total_coupon_ranking'}))\n",
    "temp.mer_rate_total_coupon_ranking.value_counts().plot.pie()"
   ]
  },
  {
   "cell_type": "code",
   "execution_count": 37,
   "metadata": {
    "ExecuteTime": {
     "end_time": "2019-01-02T06:32:47.948886Z",
     "start_time": "2019-01-02T06:32:47.944030Z"
    }
   },
   "outputs": [
    {
     "name": "stdout",
     "output_type": "stream",
     "text": [
      "(8415, 10)\n"
     ]
    }
   ],
   "source": [
    "df_mer = temp\n",
    "print(df_mer.shape)"
   ]
  },
  {
   "cell_type": "code",
   "execution_count": 38,
   "metadata": {
    "ExecuteTime": {
     "end_time": "2019-01-02T06:32:48.253241Z",
     "start_time": "2019-01-02T06:32:47.953519Z"
    }
   },
   "outputs": [
    {
     "name": "stdout",
     "output_type": "stream",
     "text": [
      "divide into 8 rank\n"
     ]
    },
    {
     "data": {
      "text/plain": [
       "<matplotlib.axes._subplots.AxesSubplot at 0x120bccef0>"
      ]
     },
     "execution_count": 38,
     "metadata": {},
     "output_type": "execute_result"
    },
    {
     "data": {
      "image/png": "[encoded data removed]",
      "text/plain": [
       "<Figure size 432x288 with 1 Axes>"
      ]
     },
     "metadata": {},
     "output_type": "display_data"
    }
   ],
   "source": [
    "#商家优惠券核销的不同用户数量\n",
    "temp = coupon_consume.groupby(['Merchant_id', 'User_id']).size()\n",
    "temp = temp.groupby('Merchant_id').size().to_frame('mer_diff_coupon')\n",
    "temp = temp.join(ranking(temp['mer_diff_coupon'], list_range=[100, 5]).rename(columns={'ranking':'mer_diff_coupon_ranking'}))\n",
    "temp.mer_diff_coupon_ranking.value_counts().plot.pie()"
   ]
  },
  {
   "cell_type": "code",
   "execution_count": 39,
   "metadata": {
    "ExecuteTime": {
     "end_time": "2019-01-02T06:32:48.269628Z",
     "start_time": "2019-01-02T06:32:48.256203Z"
    }
   },
   "outputs": [
    {
     "name": "stdout",
     "output_type": "stream",
     "text": [
      "(8415, 12)\n"
     ]
    }
   ],
   "source": [
    "df_mer = df_mer.join(temp, how='outer')\n",
    "df_mer.head()\n",
    "print(df_mer.shape)"
   ]
  },
  {
   "cell_type": "code",
   "execution_count": 40,
   "metadata": {
    "ExecuteTime": {
     "end_time": "2019-01-02T06:32:49.254173Z",
     "start_time": "2019-01-02T06:32:48.272912Z"
    }
   },
   "outputs": [
    {
     "name": "stdout",
     "output_type": "stream",
     "text": [
      "divide into 9 rank\n"
     ]
    },
    {
     "data": {
      "text/plain": [
       "<matplotlib.axes._subplots.AxesSubplot at 0x120e3c0b8>"
      ]
     },
     "execution_count": 40,
     "metadata": {},
     "output_type": "execute_result"
    },
    {
     "data": {
      "image/png": "[encoded data removed]",
      "text/plain": [
       "<Figure size 432x288 with 1 Axes>"
      ]
     },
     "metadata": {},
     "output_type": "display_data"
    }
   ],
   "source": [
    "#商家优惠券领取的不同的用户数量\n",
    "temp = offline[offline.Date_received.notna()].groupby(['Merchant_id', 'User_id']).size()\n",
    "temp = temp.groupby('Merchant_id').size().to_frame('mer_diff_coupon_total')\n",
    "temp = temp.join(ranking(temp.mer_diff_coupon_total, list_range=[10, 1]).rename(columns={'ranking':'mer_diff_coupon_total_ranking'}))\n",
    "temp.mer_diff_coupon_total_ranking.value_counts().plot.pie()"
   ]
  },
  {
   "cell_type": "code",
   "execution_count": 41,
   "metadata": {
    "ExecuteTime": {
     "end_time": "2019-01-02T06:32:49.272086Z",
     "start_time": "2019-01-02T06:32:49.259266Z"
    }
   },
   "outputs": [
    {
     "name": "stdout",
     "output_type": "stream",
     "text": [
      "(8415, 14)\n"
     ]
    }
   ],
   "source": [
    "df_mer = df_mer.join(temp, how='outer')\n",
    "df_mer.head()\n",
    "print(df_mer.shape)"
   ]
  },
  {
   "cell_type": "code",
   "execution_count": 42,
   "metadata": {
    "ExecuteTime": {
     "end_time": "2019-01-02T06:32:49.557389Z",
     "start_time": "2019-01-02T06:32:49.275313Z"
    }
   },
   "outputs": [
    {
     "name": "stdout",
     "output_type": "stream",
     "text": [
      "divide into 9 rank\n"
     ]
    },
    {
     "data": {
      "text/plain": [
       "<matplotlib.axes._subplots.AxesSubplot at 0x120af70f0>"
      ]
     },
     "execution_count": 42,
     "metadata": {},
     "output_type": "execute_result"
    },
    {
     "data": {
      "image/png": "[encoded data removed]",
      "text/plain": [
       "<Figure size 432x288 with 1 Axes>"
      ]
     },
     "metadata": {},
     "output_type": "display_data"
    }
   ],
   "source": [
    "#核销商家优惠券的不同用户占领取的不同用户比重\n",
    "temp = (df_mer.mer_diff_coupon / df_mer.mer_diff_coupon_total).to_frame('mer_rate_diff_coupon_total')\n",
    "temp = temp.join(ranking(temp['mer_rate_diff_coupon_total'], list_range=[10, 1]).rename(columns={'ranking':'mer_rate_diff_coujpon_total_ranking'}))\n",
    "temp.mer_rate_diff_coujpon_total_ranking.value_counts().plot.pie()"
   ]
  },
  {
   "cell_type": "code",
   "execution_count": 43,
   "metadata": {
    "ExecuteTime": {
     "end_time": "2019-01-02T06:32:49.573096Z",
     "start_time": "2019-01-02T06:32:49.560510Z"
    }
   },
   "outputs": [
    {
     "name": "stdout",
     "output_type": "stream",
     "text": [
      "(8415, 16)\n"
     ]
    }
   ],
   "source": [
    "df_mer = df_mer.join(temp, how='outer')\n",
    "df_mer.head()\n",
    "print(df_mer.shape)"
   ]
  },
  {
   "cell_type": "code",
   "execution_count": 44,
   "metadata": {
    "ExecuteTime": {
     "end_time": "2019-01-02T06:32:49.899686Z",
     "start_time": "2019-01-02T06:32:49.579774Z"
    }
   },
   "outputs": [
    {
     "name": "stdout",
     "output_type": "stream",
     "text": [
      "divide into 9 rank\n"
     ]
    },
    {
     "data": {
      "text/plain": [
       "<matplotlib.axes._subplots.AxesSubplot at 0x12100b2e8>"
      ]
     },
     "execution_count": 44,
     "metadata": {},
     "output_type": "execute_result"
    },
    {
     "data": {
      "image/png": "[encoded data removed]",
      "text/plain": [
       "<Figure size 432x288 with 1 Axes>"
      ]
     },
     "metadata": {},
     "output_type": "display_data"
    }
   ],
   "source": [
    "#商家优惠券被核销平均时间\n",
    "temp = coupon_consume.copy()\n",
    "temp1 = temp.groupby('Merchant_id').Date\n",
    "temp['_max'] = temp1.transform('max')\n",
    "temp['_min'] = temp1.transform('min')\n",
    "temp['_count'] = temp1.transform('count')\n",
    "temp['mer_coupon_consume_interval'] = (temp._max - temp._min).dt.days / (temp._count - 1)\n",
    "temp.drop_duplicates('Merchant_id', inplace=True)\n",
    "# temp.mer_coupon_consume_interval.value_counts()\n",
    "temp = temp.join(ranking(temp.mer_coupon_consume_interval, list_range=[10, 1]).rename(columns={'ranking':'mer_coupon_consume_interval_ranking'}))\n",
    "temp.mer_coupon_consume_interval_ranking.value_counts().plot.pie()"
   ]
  },
  {
   "cell_type": "code",
   "execution_count": 45,
   "metadata": {
    "ExecuteTime": {
     "end_time": "2019-01-02T06:32:49.927892Z",
     "start_time": "2019-01-02T06:32:49.904732Z"
    }
   },
   "outputs": [
    {
     "name": "stdout",
     "output_type": "stream",
     "text": [
      "(8415, 18)\n"
     ]
    }
   ],
   "source": [
    "df_mer = df_mer.join(temp.set_index('Merchant_id').iloc[:, -2:], how='outer')\n",
    "df_mer.head()\n",
    "print(df_mer.shape)"
   ]
  },
  {
   "cell_type": "markdown",
   "metadata": {},
   "source": [
    "### 用户信息和商家信息保存"
   ]
  },
  {
   "cell_type": "code",
   "execution_count": 46,
   "metadata": {
    "ExecuteTime": {
     "end_time": "2019-01-02T06:32:50.159064Z",
     "start_time": "2019-01-02T06:32:49.931209Z"
    }
   },
   "outputs": [
    {
     "name": "stdout",
     "output_type": "stream",
     "text": [
      "['amount_coupon_consume_ranking', 'amount_coupon_no_consume_ranking', 'total_coupon_ranking', 'rate_coupon_consume_ranking', 'total_consume_ranking', 'rate_total_coupon_consume_ranking', 'total_consume_interval_ranking', 'no_conpon_consume_interval_ranking', 'coupon_consume_interval_ranking', 'coupon_to_consume_interval_ranking']\n"
     ]
    }
   ],
   "source": [
    "list_usr_ranking = []\n",
    "for i in df_user.columns.tolist():\n",
    "    if i.endswith('ranking'):\n",
    "        list_usr_ranking.append(i)\n",
    "print(list_usr_ranking)\n",
    "\n",
    "df_user = df_user[list_usr_ranking]\n",
    "# df_user.to_csv('df_usr.csv',columns=list_usr_ranking)"
   ]
  },
  {
   "cell_type": "code",
   "execution_count": 47,
   "metadata": {
    "ExecuteTime": {
     "end_time": "2019-01-02T06:32:50.195009Z",
     "start_time": "2019-01-02T06:32:50.162527Z"
    }
   },
   "outputs": [
    {
     "data": {
      "text/html": [
       "<div>\n",
       "<style scoped>\n",
       "    .dataframe tbody tr th:only-of-type {\n",
       "        vertical-align: middle;\n",
       "    }\n",
       "\n",
       "    .dataframe tbody tr th {\n",
       "        vertical-align: top;\n",
       "    }\n",
       "\n",
       "    .dataframe thead th {\n",
       "        text-align: right;\n",
       "    }\n",
       "</style>\n",
       "<table border=\"1\" class=\"dataframe\">\n",
       "  <thead>\n",
       "    <tr style=\"text-align: right;\">\n",
       "      <th></th>\n",
       "      <th>amount_coupon_consume_ranking</th>\n",
       "      <th>amount_coupon_no_consume_ranking</th>\n",
       "      <th>total_coupon_ranking</th>\n",
       "      <th>rate_coupon_consume_ranking</th>\n",
       "      <th>total_consume_ranking</th>\n",
       "      <th>rate_total_coupon_consume_ranking</th>\n",
       "      <th>total_consume_interval_ranking</th>\n",
       "      <th>no_conpon_consume_interval_ranking</th>\n",
       "      <th>coupon_consume_interval_ranking</th>\n",
       "      <th>coupon_to_consume_interval_ranking</th>\n",
       "    </tr>\n",
       "    <tr>\n",
       "      <th>User_id</th>\n",
       "      <th></th>\n",
       "      <th></th>\n",
       "      <th></th>\n",
       "      <th></th>\n",
       "      <th></th>\n",
       "      <th></th>\n",
       "      <th></th>\n",
       "      <th></th>\n",
       "      <th></th>\n",
       "      <th></th>\n",
       "    </tr>\n",
       "  </thead>\n",
       "  <tbody>\n",
       "    <tr>\n",
       "      <th>4</th>\n",
       "      <td>NaN</td>\n",
       "      <td>1.0</td>\n",
       "      <td>1.0</td>\n",
       "      <td>0.0</td>\n",
       "      <td>NaN</td>\n",
       "      <td>NaN</td>\n",
       "      <td>NaN</td>\n",
       "      <td>NaN</td>\n",
       "      <td>NaN</td>\n",
       "      <td>NaN</td>\n",
       "    </tr>\n",
       "    <tr>\n",
       "      <th>35</th>\n",
       "      <td>NaN</td>\n",
       "      <td>3.0</td>\n",
       "      <td>3.0</td>\n",
       "      <td>0.0</td>\n",
       "      <td>NaN</td>\n",
       "      <td>NaN</td>\n",
       "      <td>NaN</td>\n",
       "      <td>NaN</td>\n",
       "      <td>NaN</td>\n",
       "      <td>NaN</td>\n",
       "    </tr>\n",
       "    <tr>\n",
       "      <th>36</th>\n",
       "      <td>NaN</td>\n",
       "      <td>1.0</td>\n",
       "      <td>1.0</td>\n",
       "      <td>0.0</td>\n",
       "      <td>NaN</td>\n",
       "      <td>NaN</td>\n",
       "      <td>NaN</td>\n",
       "      <td>NaN</td>\n",
       "      <td>NaN</td>\n",
       "      <td>NaN</td>\n",
       "    </tr>\n",
       "    <tr>\n",
       "      <th>64</th>\n",
       "      <td>NaN</td>\n",
       "      <td>0.0</td>\n",
       "      <td>0.0</td>\n",
       "      <td>0.0</td>\n",
       "      <td>NaN</td>\n",
       "      <td>NaN</td>\n",
       "      <td>NaN</td>\n",
       "      <td>NaN</td>\n",
       "      <td>NaN</td>\n",
       "      <td>NaN</td>\n",
       "    </tr>\n",
       "    <tr>\n",
       "      <th>110</th>\n",
       "      <td>NaN</td>\n",
       "      <td>2.0</td>\n",
       "      <td>2.0</td>\n",
       "      <td>0.0</td>\n",
       "      <td>NaN</td>\n",
       "      <td>NaN</td>\n",
       "      <td>NaN</td>\n",
       "      <td>NaN</td>\n",
       "      <td>NaN</td>\n",
       "      <td>NaN</td>\n",
       "    </tr>\n",
       "  </tbody>\n",
       "</table>\n",
       "</div>"
      ],
      "text/plain": [
       "         amount_coupon_consume_ranking  amount_coupon_no_consume_ranking  \\\n",
       "User_id                                                                    \n",
       "4                                  NaN                               1.0   \n",
       "35                                 NaN                               3.0   \n",
       "36                                 NaN                               1.0   \n",
       "64                                 NaN                               0.0   \n",
       "110                                NaN                               2.0   \n",
       "\n",
       "         total_coupon_ranking  rate_coupon_consume_ranking  \\\n",
       "User_id                                                      \n",
       "4                         1.0                          0.0   \n",
       "35                        3.0                          0.0   \n",
       "36                        1.0                          0.0   \n",
       "64                        0.0                          0.0   \n",
       "110                       2.0                          0.0   \n",
       "\n",
       "         total_consume_ranking  rate_total_coupon_consume_ranking  \\\n",
       "User_id                                                             \n",
       "4                          NaN                                NaN   \n",
       "35                         NaN                                NaN   \n",
       "36                         NaN                                NaN   \n",
       "64                         NaN                                NaN   \n",
       "110                        NaN                                NaN   \n",
       "\n",
       "         total_consume_interval_ranking  no_conpon_consume_interval_ranking  \\\n",
       "User_id                                                                       \n",
       "4                                   NaN                                 NaN   \n",
       "35                                  NaN                                 NaN   \n",
       "36                                  NaN                                 NaN   \n",
       "64                                  NaN                                 NaN   \n",
       "110                                 NaN                                 NaN   \n",
       "\n",
       "         coupon_consume_interval_ranking  coupon_to_consume_interval_ranking  \n",
       "User_id                                                                       \n",
       "4                                    NaN                                 NaN  \n",
       "35                                   NaN                                 NaN  \n",
       "36                                   NaN                                 NaN  \n",
       "64                                   NaN                                 NaN  \n",
       "110                                  NaN                                 NaN  "
      ]
     },
     "execution_count": 47,
     "metadata": {},
     "output_type": "execute_result"
    }
   ],
   "source": [
    "df_user.head()"
   ]
  },
  {
   "cell_type": "code",
   "execution_count": 48,
   "metadata": {
    "ExecuteTime": {
     "end_time": "2019-01-02T06:32:50.204558Z",
     "start_time": "2019-01-02T06:32:50.198227Z"
    }
   },
   "outputs": [
    {
     "name": "stdout",
     "output_type": "stream",
     "text": [
      "['mer_sell_ranking', 'mer_sell_coupon_ranking', 'rate_mer_sell_coupon_ranking', 'mer_total_ranking', 'mer_rate_total_coupon_ranking', 'mer_diff_coupon_ranking', 'mer_diff_coupon_total_ranking', 'mer_rate_diff_coujpon_total_ranking', 'mer_coupon_consume_interval_ranking']\n"
     ]
    }
   ],
   "source": [
    "list_mer_ranking = []\n",
    "for i in df_mer.columns.tolist():\n",
    "    if i.endswith('ranking'):\n",
    "        list_mer_ranking.append(i)\n",
    "print(list_mer_ranking)\n",
    "\n",
    "# df_mer.to_csv('df_mer.csv', columns=list_mer_ranking)"
   ]
  },
  {
   "cell_type": "code",
   "execution_count": 49,
   "metadata": {
    "ExecuteTime": {
     "end_time": "2019-01-02T06:32:50.244394Z",
     "start_time": "2019-01-02T06:32:50.208088Z"
    }
   },
   "outputs": [
    {
     "data": {
      "text/html": [
       "<div>\n",
       "<style scoped>\n",
       "    .dataframe tbody tr th:only-of-type {\n",
       "        vertical-align: middle;\n",
       "    }\n",
       "\n",
       "    .dataframe tbody tr th {\n",
       "        vertical-align: top;\n",
       "    }\n",
       "\n",
       "    .dataframe thead th {\n",
       "        text-align: right;\n",
       "    }\n",
       "</style>\n",
       "<table border=\"1\" class=\"dataframe\">\n",
       "  <thead>\n",
       "    <tr style=\"text-align: right;\">\n",
       "      <th></th>\n",
       "      <th>mer_sell</th>\n",
       "      <th>mer_sell_ranking</th>\n",
       "      <th>mer_sell_coupon</th>\n",
       "      <th>mer_sell_coupon_ranking</th>\n",
       "      <th>rate_mer_sell_coupon</th>\n",
       "      <th>rate_mer_sell_coupon_ranking</th>\n",
       "      <th>mer_total</th>\n",
       "      <th>mer_total_ranking</th>\n",
       "      <th>mer_rate_total_coupon</th>\n",
       "      <th>mer_rate_total_coupon_ranking</th>\n",
       "      <th>mer_diff_coupon</th>\n",
       "      <th>mer_diff_coupon_ranking</th>\n",
       "      <th>mer_diff_coupon_total</th>\n",
       "      <th>mer_diff_coupon_total_ranking</th>\n",
       "      <th>mer_rate_diff_coupon_total</th>\n",
       "      <th>mer_rate_diff_coujpon_total_ranking</th>\n",
       "      <th>mer_coupon_consume_interval</th>\n",
       "      <th>mer_coupon_consume_interval_ranking</th>\n",
       "    </tr>\n",
       "    <tr>\n",
       "      <th>Merchant_id</th>\n",
       "      <th></th>\n",
       "      <th></th>\n",
       "      <th></th>\n",
       "      <th></th>\n",
       "      <th></th>\n",
       "      <th></th>\n",
       "      <th></th>\n",
       "      <th></th>\n",
       "      <th></th>\n",
       "      <th></th>\n",
       "      <th></th>\n",
       "      <th></th>\n",
       "      <th></th>\n",
       "      <th></th>\n",
       "      <th></th>\n",
       "      <th></th>\n",
       "      <th></th>\n",
       "      <th></th>\n",
       "    </tr>\n",
       "  </thead>\n",
       "  <tbody>\n",
       "    <tr>\n",
       "      <th>1</th>\n",
       "      <td>14.0</td>\n",
       "      <td>10.0</td>\n",
       "      <td>NaN</td>\n",
       "      <td>NaN</td>\n",
       "      <td>NaN</td>\n",
       "      <td>NaN</td>\n",
       "      <td>14</td>\n",
       "      <td>4</td>\n",
       "      <td>NaN</td>\n",
       "      <td>NaN</td>\n",
       "      <td>NaN</td>\n",
       "      <td>NaN</td>\n",
       "      <td>NaN</td>\n",
       "      <td>NaN</td>\n",
       "      <td>NaN</td>\n",
       "      <td>NaN</td>\n",
       "      <td>NaN</td>\n",
       "      <td>NaN</td>\n",
       "    </tr>\n",
       "    <tr>\n",
       "      <th>2</th>\n",
       "      <td>4.0</td>\n",
       "      <td>3.0</td>\n",
       "      <td>NaN</td>\n",
       "      <td>NaN</td>\n",
       "      <td>NaN</td>\n",
       "      <td>NaN</td>\n",
       "      <td>11</td>\n",
       "      <td>3</td>\n",
       "      <td>NaN</td>\n",
       "      <td>NaN</td>\n",
       "      <td>NaN</td>\n",
       "      <td>NaN</td>\n",
       "      <td>7.0</td>\n",
       "      <td>4.0</td>\n",
       "      <td>NaN</td>\n",
       "      <td>NaN</td>\n",
       "      <td>NaN</td>\n",
       "      <td>NaN</td>\n",
       "    </tr>\n",
       "    <tr>\n",
       "      <th>3</th>\n",
       "      <td>9.0</td>\n",
       "      <td>7.0</td>\n",
       "      <td>1.0</td>\n",
       "      <td>0.0</td>\n",
       "      <td>9.0</td>\n",
       "      <td>4.0</td>\n",
       "      <td>18</td>\n",
       "      <td>4</td>\n",
       "      <td>0.055556</td>\n",
       "      <td>3.0</td>\n",
       "      <td>1.0</td>\n",
       "      <td>0.0</td>\n",
       "      <td>10.0</td>\n",
       "      <td>5.0</td>\n",
       "      <td>0.100000</td>\n",
       "      <td>2.0</td>\n",
       "      <td>NaN</td>\n",
       "      <td>NaN</td>\n",
       "    </tr>\n",
       "    <tr>\n",
       "      <th>4</th>\n",
       "      <td>38.0</td>\n",
       "      <td>16.0</td>\n",
       "      <td>5.0</td>\n",
       "      <td>4.0</td>\n",
       "      <td>7.6</td>\n",
       "      <td>4.0</td>\n",
       "      <td>40</td>\n",
       "      <td>6</td>\n",
       "      <td>0.125000</td>\n",
       "      <td>7.0</td>\n",
       "      <td>2.0</td>\n",
       "      <td>1.0</td>\n",
       "      <td>3.0</td>\n",
       "      <td>1.0</td>\n",
       "      <td>0.666667</td>\n",
       "      <td>9.0</td>\n",
       "      <td>2.5</td>\n",
       "      <td>1.0</td>\n",
       "    </tr>\n",
       "    <tr>\n",
       "      <th>5</th>\n",
       "      <td>54.0</td>\n",
       "      <td>18.0</td>\n",
       "      <td>3.0</td>\n",
       "      <td>2.0</td>\n",
       "      <td>18.0</td>\n",
       "      <td>7.0</td>\n",
       "      <td>79</td>\n",
       "      <td>8</td>\n",
       "      <td>0.037975</td>\n",
       "      <td>2.0</td>\n",
       "      <td>3.0</td>\n",
       "      <td>2.0</td>\n",
       "      <td>21.0</td>\n",
       "      <td>7.0</td>\n",
       "      <td>0.142857</td>\n",
       "      <td>3.0</td>\n",
       "      <td>2.5</td>\n",
       "      <td>1.0</td>\n",
       "    </tr>\n",
       "  </tbody>\n",
       "</table>\n",
       "</div>"
      ],
      "text/plain": [
       "             mer_sell  mer_sell_ranking  mer_sell_coupon  \\\n",
       "Merchant_id                                                \n",
       "1                14.0              10.0              NaN   \n",
       "2                 4.0               3.0              NaN   \n",
       "3                 9.0               7.0              1.0   \n",
       "4                38.0              16.0              5.0   \n",
       "5                54.0              18.0              3.0   \n",
       "\n",
       "             mer_sell_coupon_ranking  rate_mer_sell_coupon  \\\n",
       "Merchant_id                                                  \n",
       "1                                NaN                   NaN   \n",
       "2                                NaN                   NaN   \n",
       "3                                0.0                   9.0   \n",
       "4                                4.0                   7.6   \n",
       "5                                2.0                  18.0   \n",
       "\n",
       "             rate_mer_sell_coupon_ranking  mer_total  mer_total_ranking  \\\n",
       "Merchant_id                                                               \n",
       "1                                     NaN         14                  4   \n",
       "2                                     NaN         11                  3   \n",
       "3                                     4.0         18                  4   \n",
       "4                                     4.0         40                  6   \n",
       "5                                     7.0         79                  8   \n",
       "\n",
       "             mer_rate_total_coupon  mer_rate_total_coupon_ranking  \\\n",
       "Merchant_id                                                         \n",
       "1                              NaN                            NaN   \n",
       "2                              NaN                            NaN   \n",
       "3                         0.055556                            3.0   \n",
       "4                         0.125000                            7.0   \n",
       "5                         0.037975                            2.0   \n",
       "\n",
       "             mer_diff_coupon  mer_diff_coupon_ranking  mer_diff_coupon_total  \\\n",
       "Merchant_id                                                                    \n",
       "1                        NaN                      NaN                    NaN   \n",
       "2                        NaN                      NaN                    7.0   \n",
       "3                        1.0                      0.0                   10.0   \n",
       "4                        2.0                      1.0                    3.0   \n",
       "5                        3.0                      2.0                   21.0   \n",
       "\n",
       "             mer_diff_coupon_total_ranking  mer_rate_diff_coupon_total  \\\n",
       "Merchant_id                                                              \n",
       "1                                      NaN                         NaN   \n",
       "2                                      4.0                         NaN   \n",
       "3                                      5.0                    0.100000   \n",
       "4                                      1.0                    0.666667   \n",
       "5                                      7.0                    0.142857   \n",
       "\n",
       "             mer_rate_diff_coujpon_total_ranking  mer_coupon_consume_interval  \\\n",
       "Merchant_id                                                                     \n",
       "1                                            NaN                          NaN   \n",
       "2                                            NaN                          NaN   \n",
       "3                                            2.0                          NaN   \n",
       "4                                            9.0                          2.5   \n",
       "5                                            3.0                          2.5   \n",
       "\n",
       "             mer_coupon_consume_interval_ranking  \n",
       "Merchant_id                                       \n",
       "1                                            NaN  \n",
       "2                                            NaN  \n",
       "3                                            NaN  \n",
       "4                                            1.0  \n",
       "5                                            1.0  "
      ]
     },
     "execution_count": 49,
     "metadata": {},
     "output_type": "execute_result"
    }
   ],
   "source": [
    "df_mer.head()"
   ]
  },
  {
   "cell_type": "code",
   "execution_count": 50,
   "metadata": {
    "ExecuteTime": {
     "end_time": "2019-01-02T06:32:51.174433Z",
     "start_time": "2019-01-02T06:32:50.247489Z"
    }
   },
   "outputs": [],
   "source": [
    "temp = X.merge(df_mer[list_mer_ranking], on='Merchant_id', how='left')"
   ]
  },
  {
   "cell_type": "code",
   "execution_count": 51,
   "metadata": {
    "ExecuteTime": {
     "end_time": "2019-01-02T06:32:52.387192Z",
     "start_time": "2019-01-02T06:32:51.176598Z"
    }
   },
   "outputs": [],
   "source": [
    "# temp = temp.merge(df_user[list_usr_ranking], on='User_id', how='left')\n",
    "temp = temp.merge(df_user, on='User_id', how='left')"
   ]
  },
  {
   "cell_type": "code",
   "execution_count": 52,
   "metadata": {
    "ExecuteTime": {
     "end_time": "2019-01-02T06:32:52.439987Z",
     "start_time": "2019-01-02T06:32:52.389385Z"
    }
   },
   "outputs": [
    {
     "data": {
      "text/html": [
       "<div>\n",
       "<style scoped>\n",
       "    .dataframe tbody tr th:only-of-type {\n",
       "        vertical-align: middle;\n",
       "    }\n",
       "\n",
       "    .dataframe tbody tr th {\n",
       "        vertical-align: top;\n",
       "    }\n",
       "\n",
       "    .dataframe thead th {\n",
       "        text-align: right;\n",
       "    }\n",
       "</style>\n",
       "<table border=\"1\" class=\"dataframe\">\n",
       "  <thead>\n",
       "    <tr style=\"text-align: right;\">\n",
       "      <th></th>\n",
       "      <th>User_id</th>\n",
       "      <th>Merchant_id</th>\n",
       "      <th>Coupon_id</th>\n",
       "      <th>Discount_rate</th>\n",
       "      <th>Distance</th>\n",
       "      <th>Date_received</th>\n",
       "      <th>Date</th>\n",
       "      <th>discount_rate</th>\n",
       "      <th>discount_type</th>\n",
       "      <th>label</th>\n",
       "      <th>...</th>\n",
       "      <th>amount_coupon_consume_ranking</th>\n",
       "      <th>amount_coupon_no_consume_ranking</th>\n",
       "      <th>total_coupon_ranking</th>\n",
       "      <th>rate_coupon_consume_ranking</th>\n",
       "      <th>total_consume_ranking</th>\n",
       "      <th>rate_total_coupon_consume_ranking</th>\n",
       "      <th>total_consume_interval_ranking</th>\n",
       "      <th>no_conpon_consume_interval_ranking</th>\n",
       "      <th>coupon_consume_interval_ranking</th>\n",
       "      <th>coupon_to_consume_interval_ranking</th>\n",
       "    </tr>\n",
       "  </thead>\n",
       "  <tbody>\n",
       "    <tr>\n",
       "      <th>0</th>\n",
       "      <td>1439408</td>\n",
       "      <td>2632</td>\n",
       "      <td>NaN</td>\n",
       "      <td>NaN</td>\n",
       "      <td>0.0</td>\n",
       "      <td>NaT</td>\n",
       "      <td>2016-02-17</td>\n",
       "      <td>1.000000</td>\n",
       "      <td>NaN</td>\n",
       "      <td>0</td>\n",
       "      <td>...</td>\n",
       "      <td>0.0</td>\n",
       "      <td>3.0</td>\n",
       "      <td>4.0</td>\n",
       "      <td>5.0</td>\n",
       "      <td>2.0</td>\n",
       "      <td>6.0</td>\n",
       "      <td>13.0</td>\n",
       "      <td>13.0</td>\n",
       "      <td>NaN</td>\n",
       "      <td>17.0</td>\n",
       "    </tr>\n",
       "    <tr>\n",
       "      <th>1</th>\n",
       "      <td>1439408</td>\n",
       "      <td>4663</td>\n",
       "      <td>11002.0</td>\n",
       "      <td>150:20</td>\n",
       "      <td>1.0</td>\n",
       "      <td>2016-05-28</td>\n",
       "      <td>NaT</td>\n",
       "      <td>0.866667</td>\n",
       "      <td>1.0</td>\n",
       "      <td>0</td>\n",
       "      <td>...</td>\n",
       "      <td>0.0</td>\n",
       "      <td>3.0</td>\n",
       "      <td>4.0</td>\n",
       "      <td>5.0</td>\n",
       "      <td>2.0</td>\n",
       "      <td>6.0</td>\n",
       "      <td>13.0</td>\n",
       "      <td>13.0</td>\n",
       "      <td>NaN</td>\n",
       "      <td>17.0</td>\n",
       "    </tr>\n",
       "    <tr>\n",
       "      <th>2</th>\n",
       "      <td>1439408</td>\n",
       "      <td>2632</td>\n",
       "      <td>8591.0</td>\n",
       "      <td>20:1</td>\n",
       "      <td>0.0</td>\n",
       "      <td>2016-02-17</td>\n",
       "      <td>NaT</td>\n",
       "      <td>0.950000</td>\n",
       "      <td>1.0</td>\n",
       "      <td>0</td>\n",
       "      <td>...</td>\n",
       "      <td>0.0</td>\n",
       "      <td>3.0</td>\n",
       "      <td>4.0</td>\n",
       "      <td>5.0</td>\n",
       "      <td>2.0</td>\n",
       "      <td>6.0</td>\n",
       "      <td>13.0</td>\n",
       "      <td>13.0</td>\n",
       "      <td>NaN</td>\n",
       "      <td>17.0</td>\n",
       "    </tr>\n",
       "    <tr>\n",
       "      <th>3</th>\n",
       "      <td>1439408</td>\n",
       "      <td>2632</td>\n",
       "      <td>1078.0</td>\n",
       "      <td>20:1</td>\n",
       "      <td>0.0</td>\n",
       "      <td>2016-03-19</td>\n",
       "      <td>NaT</td>\n",
       "      <td>0.950000</td>\n",
       "      <td>1.0</td>\n",
       "      <td>0</td>\n",
       "      <td>...</td>\n",
       "      <td>0.0</td>\n",
       "      <td>3.0</td>\n",
       "      <td>4.0</td>\n",
       "      <td>5.0</td>\n",
       "      <td>2.0</td>\n",
       "      <td>6.0</td>\n",
       "      <td>13.0</td>\n",
       "      <td>13.0</td>\n",
       "      <td>NaN</td>\n",
       "      <td>17.0</td>\n",
       "    </tr>\n",
       "    <tr>\n",
       "      <th>4</th>\n",
       "      <td>1439408</td>\n",
       "      <td>2632</td>\n",
       "      <td>8591.0</td>\n",
       "      <td>20:1</td>\n",
       "      <td>0.0</td>\n",
       "      <td>2016-06-13</td>\n",
       "      <td>NaT</td>\n",
       "      <td>0.950000</td>\n",
       "      <td>1.0</td>\n",
       "      <td>0</td>\n",
       "      <td>...</td>\n",
       "      <td>0.0</td>\n",
       "      <td>3.0</td>\n",
       "      <td>4.0</td>\n",
       "      <td>5.0</td>\n",
       "      <td>2.0</td>\n",
       "      <td>6.0</td>\n",
       "      <td>13.0</td>\n",
       "      <td>13.0</td>\n",
       "      <td>NaN</td>\n",
       "      <td>17.0</td>\n",
       "    </tr>\n",
       "  </tbody>\n",
       "</table>\n",
       "<p>5 rows × 29 columns</p>\n",
       "</div>"
      ],
      "text/plain": [
       "   User_id  Merchant_id  Coupon_id Discount_rate  Distance Date_received  \\\n",
       "0  1439408         2632        NaN           NaN       0.0           NaT   \n",
       "1  1439408         4663    11002.0        150:20       1.0    2016-05-28   \n",
       "2  1439408         2632     8591.0          20:1       0.0    2016-02-17   \n",
       "3  1439408         2632     1078.0          20:1       0.0    2016-03-19   \n",
       "4  1439408         2632     8591.0          20:1       0.0    2016-06-13   \n",
       "\n",
       "        Date  discount_rate  discount_type  label  \\\n",
       "0 2016-02-17       1.000000            NaN      0   \n",
       "1        NaT       0.866667            1.0      0   \n",
       "2        NaT       0.950000            1.0      0   \n",
       "3        NaT       0.950000            1.0      0   \n",
       "4        NaT       0.950000            1.0      0   \n",
       "\n",
       "                  ...                  amount_coupon_consume_ranking  \\\n",
       "0                 ...                                            0.0   \n",
       "1                 ...                                            0.0   \n",
       "2                 ...                                            0.0   \n",
       "3                 ...                                            0.0   \n",
       "4                 ...                                            0.0   \n",
       "\n",
       "   amount_coupon_no_consume_ranking  total_coupon_ranking  \\\n",
       "0                               3.0                   4.0   \n",
       "1                               3.0                   4.0   \n",
       "2                               3.0                   4.0   \n",
       "3                               3.0                   4.0   \n",
       "4                               3.0                   4.0   \n",
       "\n",
       "   rate_coupon_consume_ranking  total_consume_ranking  \\\n",
       "0                          5.0                    2.0   \n",
       "1                          5.0                    2.0   \n",
       "2                          5.0                    2.0   \n",
       "3                          5.0                    2.0   \n",
       "4                          5.0                    2.0   \n",
       "\n",
       "   rate_total_coupon_consume_ranking  total_consume_interval_ranking  \\\n",
       "0                                6.0                            13.0   \n",
       "1                                6.0                            13.0   \n",
       "2                                6.0                            13.0   \n",
       "3                                6.0                            13.0   \n",
       "4                                6.0                            13.0   \n",
       "\n",
       "   no_conpon_consume_interval_ranking  coupon_consume_interval_ranking  \\\n",
       "0                                13.0                              NaN   \n",
       "1                                13.0                              NaN   \n",
       "2                                13.0                              NaN   \n",
       "3                                13.0                              NaN   \n",
       "4                                13.0                              NaN   \n",
       "\n",
       "   coupon_to_consume_interval_ranking  \n",
       "0                                17.0  \n",
       "1                                17.0  \n",
       "2                                17.0  \n",
       "3                                17.0  \n",
       "4                                17.0  \n",
       "\n",
       "[5 rows x 29 columns]"
      ]
     },
     "execution_count": 52,
     "metadata": {},
     "output_type": "execute_result"
    }
   ],
   "source": [
    "temp.head()"
   ]
  },
  {
   "cell_type": "code",
   "execution_count": 53,
   "metadata": {
    "ExecuteTime": {
     "end_time": "2019-01-02T06:32:53.612858Z",
     "start_time": "2019-01-02T06:32:52.442816Z"
    }
   },
   "outputs": [],
   "source": [
    "import xgboost as xgb"
   ]
  },
  {
   "cell_type": "code",
   "execution_count": 54,
   "metadata": {
    "ExecuteTime": {
     "end_time": "2019-01-02T06:32:58.522701Z",
     "start_time": "2019-01-02T06:32:53.615166Z"
    }
   },
   "outputs": [],
   "source": [
    "train_col = ['discount_rate', 'discount_type', 'mer_sell_ranking',\n",
    "       'mer_sell_coupon_ranking', 'rate_mer_sell_coupon_ranking',\n",
    "       'mer_total_ranking', 'mer_rate_total_coupon_ranking',\n",
    "       'mer_diff_coupon_ranking', 'mer_diff_coupon_total_ranking',\n",
    "       'mer_rate_diff_coujpon_total_ranking',\n",
    "       'mer_coupon_consume_interval_ranking', 'amount_coupon_consume_ranking',\n",
    "       'amount_coupon_no_consume_ranking', 'total_coupon_ranking',\n",
    "       'rate_coupon_consume_ranking', 'total_consume_ranking',\n",
    "       'rate_total_coupon_consume_ranking', 'total_consume_interval_ranking',\n",
    "       'no_conpon_consume_interval_ranking', 'coupon_consume_interval_ranking',\n",
    "       'coupon_to_consume_interval_ranking']\n",
    "\n",
    "dtrain = xgb.DMatrix(temp[train_col].fillna(-1).iloc[:-2000], temp['label'].fillna(0).iloc[:-2000])\n",
    "dtest = xgb.DMatrix(temp[train_col].fillna(-1).iloc[-2000:], temp['label'].fillna(0).iloc[-2000:]) "
   ]
  },
  {
   "cell_type": "code",
   "execution_count": 55,
   "metadata": {
    "ExecuteTime": {
     "end_time": "2019-01-02T06:33:42.081450Z",
     "start_time": "2019-01-02T06:32:58.526714Z"
    }
   },
   "outputs": [
    {
     "name": "stdout",
     "output_type": "stream",
     "text": [
      "[14:33:05] src/tree/updater_prune.cc:74: tree pruning end, 1 roots, 74 extra nodes, 0 pruned nodes, max_depth=6\n",
      "[0]\teval-auc:0.9893\ttrain-auc:0.988675\n",
      "[14:33:08] src/tree/updater_prune.cc:74: tree pruning end, 1 roots, 82 extra nodes, 0 pruned nodes, max_depth=6\n",
      "[1]\teval-auc:0.990684\ttrain-auc:0.989272\n",
      "[14:33:12] src/tree/updater_prune.cc:74: tree pruning end, 1 roots, 90 extra nodes, 0 pruned nodes, max_depth=6\n",
      "[2]\teval-auc:0.990771\ttrain-auc:0.989754\n",
      "[14:33:16] src/tree/updater_prune.cc:74: tree pruning end, 1 roots, 98 extra nodes, 0 pruned nodes, max_depth=6\n",
      "[3]\teval-auc:0.991172\ttrain-auc:0.990078\n",
      "[14:33:20] src/tree/updater_prune.cc:74: tree pruning end, 1 roots, 100 extra nodes, 0 pruned nodes, max_depth=6\n",
      "[4]\teval-auc:0.991462\ttrain-auc:0.9903\n",
      "[14:33:25] src/tree/updater_prune.cc:74: tree pruning end, 1 roots, 108 extra nodes, 0 pruned nodes, max_depth=6\n",
      "[5]\teval-auc:0.991628\ttrain-auc:0.990428\n",
      "[14:33:29] src/tree/updater_prune.cc:74: tree pruning end, 1 roots, 112 extra nodes, 0 pruned nodes, max_depth=6\n",
      "[6]\teval-auc:0.99166\ttrain-auc:0.990581\n",
      "[14:33:33] src/tree/updater_prune.cc:74: tree pruning end, 1 roots, 118 extra nodes, 0 pruned nodes, max_depth=6\n",
      "[7]\teval-auc:0.991712\ttrain-auc:0.990669\n",
      "[14:33:37] src/tree/updater_prune.cc:74: tree pruning end, 1 roots, 116 extra nodes, 0 pruned nodes, max_depth=6\n",
      "[8]\teval-auc:0.991452\ttrain-auc:0.990723\n",
      "[14:33:41] src/tree/updater_prune.cc:74: tree pruning end, 1 roots, 118 extra nodes, 0 pruned nodes, max_depth=6\n",
      "[9]\teval-auc:0.991595\ttrain-auc:0.990806\n"
     ]
    }
   ],
   "source": [
    "params={}\n",
    "params['eval_metric'] = 'auc'\n",
    "# params={'booster':'gbtree',\n",
    "# \t    'objective': 'rank:pairwise',\n",
    "# \t    'eval_metric':'auc',\n",
    "# \t    'gamma':0.1,\n",
    "# \t    'min_child_weight':1.1,\n",
    "# \t    'max_depth':5,\n",
    "# \t    'lambda':10,\n",
    "# \t    'subsample':0.7,\n",
    "# \t    'colsample_bytree':0.7,\n",
    "# \t    'colsample_bylevel':0.7,\n",
    "# \t    'eta': 0.01,\n",
    "# \t    'tree_method':'exact',\n",
    "# \t    'seed':0,\n",
    "# \t    'nthread':12\n",
    "# \t    }\n",
    "num_round = 10\n",
    "evallist = [(dtest, 'eval'), (dtrain, 'train')]\n",
    "bst = xgb.train(params, dtrain, num_round, evallist)"
   ]
  },
  {
   "cell_type": "code",
   "execution_count": 81,
   "metadata": {
    "ExecuteTime": {
     "end_time": "2019-01-02T06:44:56.707609Z",
     "start_time": "2019-01-02T06:44:27.355736Z"
    }
   },
   "outputs": [
    {
     "name": "stdout",
     "output_type": "stream",
     "text": [
      "0.8811330561330561\n",
      "0.9327508748554119\n"
     ]
    }
   ],
   "source": [
    "from sklearn.preprocessing import MinMaxScaler\n",
    "ser_valid = temp[train_col].fillna(-1).iloc[-2000:]\n",
    "ser_valid = xgb.DMatrix(ser_valid)\n",
    "vpre = bst.predict(ser_valid)\n",
    "temp_valid = temp.fillna(-1).iloc[-2000:]\n",
    "vpred = MinMaxScaler(copy=True,feature_range=(0,1)).fit_transform(vpre.reshape(-1,1))\n",
    "temp_valid['pred'] = vpre\n",
    "temp_valid.head()\n",
    "\n",
    "from sklearn.metrics import log_loss, roc_auc_score, auc, roc_curve\n",
    "#性能评价函数\n",
    "def myauc(test):\n",
    "    testgroup = test.groupby(['Coupon_id'])\n",
    "    aucs = []\n",
    "    for i in testgroup:\n",
    "        tmpdf = i[1] \n",
    "        if len(tmpdf['label'].unique()) != 2:\n",
    "            continue\n",
    "        fpr, tpr, thresholds = roc_curve(tmpdf['label'], tmpdf['pred'], pos_label=1)\n",
    "        aucs.append(auc(fpr,tpr))\n",
    "    return np.average(aucs)\n",
    "\n",
    "\n",
    "print(myauc(temp_valid))\n",
    "\n",
    "train_pre = bst.predict(dtrain)\n",
    "train_pred = MinMaxScaler(copy=True,feature_range=(0,1)).fit_transform(train_pre.reshape(-1,1))\n",
    "temp_train = temp[['Coupon_id', 'label']][:-2000]\n",
    "temp_train.label = temp_train.label.fillna(0)\n",
    "temp_train['pred'] = train_pred\n",
    "print(myauc(temp_train))"
   ]
  },
  {
   "cell_type": "code",
   "execution_count": 57,
   "metadata": {
    "ExecuteTime": {
     "end_time": "2019-01-02T06:34:06.189393Z",
     "start_time": "2019-01-02T06:34:05.417793Z"
    }
   },
   "outputs": [
    {
     "data": {
      "text/plain": [
       "<matplotlib.axes._subplots.AxesSubplot at 0x13455b0f0>"
      ]
     },
     "execution_count": 57,
     "metadata": {},
     "output_type": "execute_result"
    },
    {
     "data": {
      "image/png": "[encoded data removed]",
      "text/plain": [
       "<Figure size 432x288 with 1 Axes>"
      ]
     },
     "metadata": {},
     "output_type": "display_data"
    }
   ],
   "source": [
    "xgb.plot_importance(bst)"
   ]
  },
  {
   "cell_type": "code",
   "execution_count": 58,
   "metadata": {
    "ExecuteTime": {
     "end_time": "2019-01-02T06:34:09.783431Z",
     "start_time": "2019-01-02T06:34:06.192124Z"
    }
   },
   "outputs": [
    {
     "data": {
      "image/png": "[encoded data removed]",
      "text/plain": [
       "<Figure size 432x288 with 1 Axes>"
      ]
     },
     "metadata": {},
     "output_type": "display_data"
    }
   ],
   "source": [
    "image = xgb.plot_tree(bst, num_trees=2)"
   ]
  },
  {
   "cell_type": "code",
   "execution_count": 59,
   "metadata": {
    "ExecuteTime": {
     "end_time": "2019-01-02T06:34:09.845135Z",
     "start_time": "2019-01-02T06:34:09.787991Z"
    }
   },
   "outputs": [],
   "source": [
    "image.figure.savefig('123.jpeg')"
   ]
  },
  {
   "cell_type": "code",
   "execution_count": 60,
   "metadata": {
    "ExecuteTime": {
     "end_time": "2019-01-02T06:34:09.978563Z",
     "start_time": "2019-01-02T06:34:09.848210Z"
    }
   },
   "outputs": [],
   "source": [
    "df_test = pd.read_csv(os.path.join(dir_file, 'ccf_offline_stage1_test_revised.csv'))"
   ]
  },
  {
   "cell_type": "code",
   "execution_count": 61,
   "metadata": {
    "ExecuteTime": {
     "end_time": "2019-01-02T06:34:10.002854Z",
     "start_time": "2019-01-02T06:34:09.982105Z"
    }
   },
   "outputs": [
    {
     "data": {
      "text/html": [
       "<div>\n",
       "<style scoped>\n",
       "    .dataframe tbody tr th:only-of-type {\n",
       "        vertical-align: middle;\n",
       "    }\n",
       "\n",
       "    .dataframe tbody tr th {\n",
       "        vertical-align: top;\n",
       "    }\n",
       "\n",
       "    .dataframe thead th {\n",
       "        text-align: right;\n",
       "    }\n",
       "</style>\n",
       "<table border=\"1\" class=\"dataframe\">\n",
       "  <thead>\n",
       "    <tr style=\"text-align: right;\">\n",
       "      <th></th>\n",
       "      <th>User_id</th>\n",
       "      <th>Merchant_id</th>\n",
       "      <th>Coupon_id</th>\n",
       "      <th>Discount_rate</th>\n",
       "      <th>Distance</th>\n",
       "      <th>Date_received</th>\n",
       "    </tr>\n",
       "  </thead>\n",
       "  <tbody>\n",
       "    <tr>\n",
       "      <th>0</th>\n",
       "      <td>4129537</td>\n",
       "      <td>450</td>\n",
       "      <td>9983</td>\n",
       "      <td>30:5</td>\n",
       "      <td>1.0</td>\n",
       "      <td>20160712</td>\n",
       "    </tr>\n",
       "    <tr>\n",
       "      <th>1</th>\n",
       "      <td>6949378</td>\n",
       "      <td>1300</td>\n",
       "      <td>3429</td>\n",
       "      <td>30:5</td>\n",
       "      <td>NaN</td>\n",
       "      <td>20160706</td>\n",
       "    </tr>\n",
       "    <tr>\n",
       "      <th>2</th>\n",
       "      <td>2166529</td>\n",
       "      <td>7113</td>\n",
       "      <td>6928</td>\n",
       "      <td>200:20</td>\n",
       "      <td>5.0</td>\n",
       "      <td>20160727</td>\n",
       "    </tr>\n",
       "    <tr>\n",
       "      <th>3</th>\n",
       "      <td>2166529</td>\n",
       "      <td>7113</td>\n",
       "      <td>1808</td>\n",
       "      <td>100:10</td>\n",
       "      <td>5.0</td>\n",
       "      <td>20160727</td>\n",
       "    </tr>\n",
       "    <tr>\n",
       "      <th>4</th>\n",
       "      <td>6172162</td>\n",
       "      <td>7605</td>\n",
       "      <td>6500</td>\n",
       "      <td>30:1</td>\n",
       "      <td>2.0</td>\n",
       "      <td>20160708</td>\n",
       "    </tr>\n",
       "  </tbody>\n",
       "</table>\n",
       "</div>"
      ],
      "text/plain": [
       "   User_id  Merchant_id  Coupon_id Discount_rate  Distance  Date_received\n",
       "0  4129537          450       9983          30:5       1.0       20160712\n",
       "1  6949378         1300       3429          30:5       NaN       20160706\n",
       "2  2166529         7113       6928        200:20       5.0       20160727\n",
       "3  2166529         7113       1808        100:10       5.0       20160727\n",
       "4  6172162         7605       6500          30:1       2.0       20160708"
      ]
     },
     "execution_count": 61,
     "metadata": {},
     "output_type": "execute_result"
    }
   ],
   "source": [
    "df_test.head()"
   ]
  },
  {
   "cell_type": "code",
   "execution_count": 62,
   "metadata": {
    "ExecuteTime": {
     "end_time": "2019-01-02T06:34:10.779959Z",
     "start_time": "2019-01-02T06:34:10.006141Z"
    }
   },
   "outputs": [
    {
     "data": {
      "text/html": [
       "<div>\n",
       "<style scoped>\n",
       "    .dataframe tbody tr th:only-of-type {\n",
       "        vertical-align: middle;\n",
       "    }\n",
       "\n",
       "    .dataframe tbody tr th {\n",
       "        vertical-align: top;\n",
       "    }\n",
       "\n",
       "    .dataframe thead th {\n",
       "        text-align: right;\n",
       "    }\n",
       "</style>\n",
       "<table border=\"1\" class=\"dataframe\">\n",
       "  <thead>\n",
       "    <tr style=\"text-align: right;\">\n",
       "      <th></th>\n",
       "      <th>User_id</th>\n",
       "      <th>Merchant_id</th>\n",
       "      <th>Coupon_id</th>\n",
       "      <th>Discount_rate</th>\n",
       "      <th>Distance</th>\n",
       "      <th>Date_received</th>\n",
       "      <th>discount_rate</th>\n",
       "      <th>discount_type</th>\n",
       "      <th>mer_sell</th>\n",
       "      <th>mer_sell_ranking</th>\n",
       "      <th>...</th>\n",
       "      <th>amount_coupon_consume_ranking</th>\n",
       "      <th>amount_coupon_no_consume_ranking</th>\n",
       "      <th>total_coupon_ranking</th>\n",
       "      <th>rate_coupon_consume_ranking</th>\n",
       "      <th>total_consume_ranking</th>\n",
       "      <th>rate_total_coupon_consume_ranking</th>\n",
       "      <th>total_consume_interval_ranking</th>\n",
       "      <th>no_conpon_consume_interval_ranking</th>\n",
       "      <th>coupon_consume_interval_ranking</th>\n",
       "      <th>coupon_to_consume_interval_ranking</th>\n",
       "    </tr>\n",
       "  </thead>\n",
       "  <tbody>\n",
       "    <tr>\n",
       "      <th>0</th>\n",
       "      <td>4129537</td>\n",
       "      <td>450</td>\n",
       "      <td>9983</td>\n",
       "      <td>30:5</td>\n",
       "      <td>1.0</td>\n",
       "      <td>20160712</td>\n",
       "      <td>0.833333</td>\n",
       "      <td>1</td>\n",
       "      <td>12285.0</td>\n",
       "      <td>21.0</td>\n",
       "      <td>...</td>\n",
       "      <td>NaN</td>\n",
       "      <td>1.0</td>\n",
       "      <td>1.0</td>\n",
       "      <td>0.0</td>\n",
       "      <td>NaN</td>\n",
       "      <td>NaN</td>\n",
       "      <td>NaN</td>\n",
       "      <td>NaN</td>\n",
       "      <td>NaN</td>\n",
       "      <td>NaN</td>\n",
       "    </tr>\n",
       "    <tr>\n",
       "      <th>1</th>\n",
       "      <td>6949378</td>\n",
       "      <td>1300</td>\n",
       "      <td>3429</td>\n",
       "      <td>30:5</td>\n",
       "      <td>NaN</td>\n",
       "      <td>20160706</td>\n",
       "      <td>0.833333</td>\n",
       "      <td>1</td>\n",
       "      <td>219.0</td>\n",
       "      <td>20.0</td>\n",
       "      <td>...</td>\n",
       "      <td>0.0</td>\n",
       "      <td>NaN</td>\n",
       "      <td>0.0</td>\n",
       "      <td>15.0</td>\n",
       "      <td>1.0</td>\n",
       "      <td>7.0</td>\n",
       "      <td>1.0</td>\n",
       "      <td>1.0</td>\n",
       "      <td>NaN</td>\n",
       "      <td>3.0</td>\n",
       "    </tr>\n",
       "    <tr>\n",
       "      <th>2</th>\n",
       "      <td>2166529</td>\n",
       "      <td>7113</td>\n",
       "      <td>6928</td>\n",
       "      <td>200:20</td>\n",
       "      <td>5.0</td>\n",
       "      <td>20160727</td>\n",
       "      <td>0.900000</td>\n",
       "      <td>1</td>\n",
       "      <td>3487.0</td>\n",
       "      <td>21.0</td>\n",
       "      <td>...</td>\n",
       "      <td>NaN</td>\n",
       "      <td>0.0</td>\n",
       "      <td>0.0</td>\n",
       "      <td>0.0</td>\n",
       "      <td>NaN</td>\n",
       "      <td>NaN</td>\n",
       "      <td>NaN</td>\n",
       "      <td>NaN</td>\n",
       "      <td>NaN</td>\n",
       "      <td>NaN</td>\n",
       "    </tr>\n",
       "    <tr>\n",
       "      <th>3</th>\n",
       "      <td>2166529</td>\n",
       "      <td>7113</td>\n",
       "      <td>1808</td>\n",
       "      <td>100:10</td>\n",
       "      <td>5.0</td>\n",
       "      <td>20160727</td>\n",
       "      <td>0.900000</td>\n",
       "      <td>1</td>\n",
       "      <td>3487.0</td>\n",
       "      <td>21.0</td>\n",
       "      <td>...</td>\n",
       "      <td>NaN</td>\n",
       "      <td>0.0</td>\n",
       "      <td>0.0</td>\n",
       "      <td>0.0</td>\n",
       "      <td>NaN</td>\n",
       "      <td>NaN</td>\n",
       "      <td>NaN</td>\n",
       "      <td>NaN</td>\n",
       "      <td>NaN</td>\n",
       "      <td>NaN</td>\n",
       "    </tr>\n",
       "    <tr>\n",
       "      <th>4</th>\n",
       "      <td>6172162</td>\n",
       "      <td>7605</td>\n",
       "      <td>6500</td>\n",
       "      <td>30:1</td>\n",
       "      <td>2.0</td>\n",
       "      <td>20160708</td>\n",
       "      <td>0.966667</td>\n",
       "      <td>1</td>\n",
       "      <td>1212.0</td>\n",
       "      <td>21.0</td>\n",
       "      <td>...</td>\n",
       "      <td>NaN</td>\n",
       "      <td>0.0</td>\n",
       "      <td>0.0</td>\n",
       "      <td>0.0</td>\n",
       "      <td>7.0</td>\n",
       "      <td>NaN</td>\n",
       "      <td>10.0</td>\n",
       "      <td>10.0</td>\n",
       "      <td>NaN</td>\n",
       "      <td>NaN</td>\n",
       "    </tr>\n",
       "  </tbody>\n",
       "</table>\n",
       "<p>5 rows × 36 columns</p>\n",
       "</div>"
      ],
      "text/plain": [
       "   User_id  Merchant_id  Coupon_id Discount_rate  Distance  Date_received  \\\n",
       "0  4129537          450       9983          30:5       1.0       20160712   \n",
       "1  6949378         1300       3429          30:5       NaN       20160706   \n",
       "2  2166529         7113       6928        200:20       5.0       20160727   \n",
       "3  2166529         7113       1808        100:10       5.0       20160727   \n",
       "4  6172162         7605       6500          30:1       2.0       20160708   \n",
       "\n",
       "   discount_rate  discount_type  mer_sell  mer_sell_ranking  \\\n",
       "0       0.833333              1   12285.0              21.0   \n",
       "1       0.833333              1     219.0              20.0   \n",
       "2       0.900000              1    3487.0              21.0   \n",
       "3       0.900000              1    3487.0              21.0   \n",
       "4       0.966667              1    1212.0              21.0   \n",
       "\n",
       "                  ...                  amount_coupon_consume_ranking  \\\n",
       "0                 ...                                            NaN   \n",
       "1                 ...                                            0.0   \n",
       "2                 ...                                            NaN   \n",
       "3                 ...                                            NaN   \n",
       "4                 ...                                            NaN   \n",
       "\n",
       "   amount_coupon_no_consume_ranking  total_coupon_ranking  \\\n",
       "0                               1.0                   1.0   \n",
       "1                               NaN                   0.0   \n",
       "2                               0.0                   0.0   \n",
       "3                               0.0                   0.0   \n",
       "4                               0.0                   0.0   \n",
       "\n",
       "   rate_coupon_consume_ranking  total_consume_ranking  \\\n",
       "0                          0.0                    NaN   \n",
       "1                         15.0                    1.0   \n",
       "2                          0.0                    NaN   \n",
       "3                          0.0                    NaN   \n",
       "4                          0.0                    7.0   \n",
       "\n",
       "   rate_total_coupon_consume_ranking  total_consume_interval_ranking  \\\n",
       "0                                NaN                             NaN   \n",
       "1                                7.0                             1.0   \n",
       "2                                NaN                             NaN   \n",
       "3                                NaN                             NaN   \n",
       "4                                NaN                            10.0   \n",
       "\n",
       "   no_conpon_consume_interval_ranking  coupon_consume_interval_ranking  \\\n",
       "0                                 NaN                              NaN   \n",
       "1                                 1.0                              NaN   \n",
       "2                                 NaN                              NaN   \n",
       "3                                 NaN                              NaN   \n",
       "4                                10.0                              NaN   \n",
       "\n",
       "   coupon_to_consume_interval_ranking  \n",
       "0                                 NaN  \n",
       "1                                 3.0  \n",
       "2                                 NaN  \n",
       "3                                 NaN  \n",
       "4                                 NaN  \n",
       "\n",
       "[5 rows x 36 columns]"
      ]
     },
     "execution_count": 62,
     "metadata": {},
     "output_type": "execute_result"
    }
   ],
   "source": [
    "temp_test = processData(df_test)\n",
    "temp_test = df_test.merge(df_mer, on='Merchant_id', how='left')\n",
    "temp_test = temp_test.merge(df_user, on='User_id', how='left')\n",
    "temp_test.head()"
   ]
  },
  {
   "cell_type": "code",
   "execution_count": 63,
   "metadata": {
    "ExecuteTime": {
     "end_time": "2019-01-02T06:34:10.787004Z",
     "start_time": "2019-01-02T06:34:10.783015Z"
    }
   },
   "outputs": [],
   "source": [
    "list_test = temp_test.columns.tolist()\n",
    "list_train = temp.columns.tolist()\n",
    "\n",
    "for i in train_col:\n",
    "    if i not in list_test:\n",
    "        print(i)"
   ]
  },
  {
   "cell_type": "code",
   "execution_count": 64,
   "metadata": {
    "ExecuteTime": {
     "end_time": "2019-01-02T06:34:11.039008Z",
     "start_time": "2019-01-02T06:34:10.790276Z"
    }
   },
   "outputs": [],
   "source": [
    "dpre = xgb.DMatrix(temp_test[train_col].fillna(-1))\n",
    "ypre = bst.predict(dpre)"
   ]
  },
  {
   "cell_type": "code",
   "execution_count": 65,
   "metadata": {
    "ExecuteTime": {
     "end_time": "2019-01-02T06:34:11.048497Z",
     "start_time": "2019-01-02T06:34:11.042362Z"
    }
   },
   "outputs": [
    {
     "data": {
      "text/plain": [
       "numpy.ndarray"
      ]
     },
     "execution_count": 65,
     "metadata": {},
     "output_type": "execute_result"
    }
   ],
   "source": [
    "type(ypre)"
   ]
  },
  {
   "cell_type": "code",
   "execution_count": 66,
   "metadata": {
    "ExecuteTime": {
     "end_time": "2019-01-02T06:34:11.059581Z",
     "start_time": "2019-01-02T06:34:11.052416Z"
    }
   },
   "outputs": [
    {
     "data": {
      "text/plain": [
       "(113640,)"
      ]
     },
     "execution_count": 66,
     "metadata": {},
     "output_type": "execute_result"
    }
   ],
   "source": [
    "ypre.shape"
   ]
  },
  {
   "cell_type": "code",
   "execution_count": 67,
   "metadata": {
    "ExecuteTime": {
     "end_time": "2019-01-02T06:34:11.068016Z",
     "start_time": "2019-01-02T06:34:11.062872Z"
    }
   },
   "outputs": [],
   "source": [
    "df_pre = pd.DataFrame({'result': ypre})"
   ]
  },
  {
   "cell_type": "code",
   "execution_count": 68,
   "metadata": {
    "ExecuteTime": {
     "end_time": "2019-01-02T06:34:11.105957Z",
     "start_time": "2019-01-02T06:34:11.071847Z"
    }
   },
   "outputs": [
    {
     "data": {
      "text/html": [
       "<div>\n",
       "<style scoped>\n",
       "    .dataframe tbody tr th:only-of-type {\n",
       "        vertical-align: middle;\n",
       "    }\n",
       "\n",
       "    .dataframe tbody tr th {\n",
       "        vertical-align: top;\n",
       "    }\n",
       "\n",
       "    .dataframe thead th {\n",
       "        text-align: right;\n",
       "    }\n",
       "</style>\n",
       "<table border=\"1\" class=\"dataframe\">\n",
       "  <thead>\n",
       "    <tr style=\"text-align: right;\">\n",
       "      <th></th>\n",
       "      <th>User_id</th>\n",
       "      <th>Merchant_id</th>\n",
       "      <th>Coupon_id</th>\n",
       "      <th>Discount_rate</th>\n",
       "      <th>Distance</th>\n",
       "      <th>Date_received</th>\n",
       "      <th>discount_rate</th>\n",
       "      <th>discount_type</th>\n",
       "      <th>result</th>\n",
       "    </tr>\n",
       "  </thead>\n",
       "  <tbody>\n",
       "    <tr>\n",
       "      <th>0</th>\n",
       "      <td>4129537</td>\n",
       "      <td>450</td>\n",
       "      <td>9983</td>\n",
       "      <td>30:5</td>\n",
       "      <td>1.0</td>\n",
       "      <td>20160712</td>\n",
       "      <td>0.833333</td>\n",
       "      <td>1</td>\n",
       "      <td>0.014140</td>\n",
       "    </tr>\n",
       "    <tr>\n",
       "      <th>1</th>\n",
       "      <td>6949378</td>\n",
       "      <td>1300</td>\n",
       "      <td>3429</td>\n",
       "      <td>30:5</td>\n",
       "      <td>NaN</td>\n",
       "      <td>20160706</td>\n",
       "      <td>0.833333</td>\n",
       "      <td>1</td>\n",
       "      <td>0.970755</td>\n",
       "    </tr>\n",
       "    <tr>\n",
       "      <th>2</th>\n",
       "      <td>2166529</td>\n",
       "      <td>7113</td>\n",
       "      <td>6928</td>\n",
       "      <td>200:20</td>\n",
       "      <td>5.0</td>\n",
       "      <td>20160727</td>\n",
       "      <td>0.900000</td>\n",
       "      <td>1</td>\n",
       "      <td>0.014140</td>\n",
       "    </tr>\n",
       "    <tr>\n",
       "      <th>3</th>\n",
       "      <td>2166529</td>\n",
       "      <td>7113</td>\n",
       "      <td>1808</td>\n",
       "      <td>100:10</td>\n",
       "      <td>5.0</td>\n",
       "      <td>20160727</td>\n",
       "      <td>0.900000</td>\n",
       "      <td>1</td>\n",
       "      <td>0.014140</td>\n",
       "    </tr>\n",
       "    <tr>\n",
       "      <th>4</th>\n",
       "      <td>6172162</td>\n",
       "      <td>7605</td>\n",
       "      <td>6500</td>\n",
       "      <td>30:1</td>\n",
       "      <td>2.0</td>\n",
       "      <td>20160708</td>\n",
       "      <td>0.966667</td>\n",
       "      <td>1</td>\n",
       "      <td>0.014140</td>\n",
       "    </tr>\n",
       "  </tbody>\n",
       "</table>\n",
       "</div>"
      ],
      "text/plain": [
       "   User_id  Merchant_id  Coupon_id Discount_rate  Distance  Date_received  \\\n",
       "0  4129537          450       9983          30:5       1.0       20160712   \n",
       "1  6949378         1300       3429          30:5       NaN       20160706   \n",
       "2  2166529         7113       6928        200:20       5.0       20160727   \n",
       "3  2166529         7113       1808        100:10       5.0       20160727   \n",
       "4  6172162         7605       6500          30:1       2.0       20160708   \n",
       "\n",
       "   discount_rate  discount_type    result  \n",
       "0       0.833333              1  0.014140  \n",
       "1       0.833333              1  0.970755  \n",
       "2       0.900000              1  0.014140  \n",
       "3       0.900000              1  0.014140  \n",
       "4       0.966667              1  0.014140  "
      ]
     },
     "execution_count": 68,
     "metadata": {},
     "output_type": "execute_result"
    }
   ],
   "source": [
    "df_pre = df_test.join(df_pre)\n",
    "df_pre.head()"
   ]
  },
  {
   "cell_type": "code",
   "execution_count": 69,
   "metadata": {
    "ExecuteTime": {
     "end_time": "2019-01-02T06:34:11.136282Z",
     "start_time": "2019-01-02T06:34:11.113205Z"
    }
   },
   "outputs": [],
   "source": [
    "df_pre = df_pre[['User_id', 'Coupon_id', 'Date_received', 'result']]"
   ]
  },
  {
   "cell_type": "code",
   "execution_count": 70,
   "metadata": {
    "ExecuteTime": {
     "end_time": "2019-01-02T06:34:11.156665Z",
     "start_time": "2019-01-02T06:34:11.141315Z"
    }
   },
   "outputs": [
    {
     "data": {
      "text/html": [
       "<div>\n",
       "<style scoped>\n",
       "    .dataframe tbody tr th:only-of-type {\n",
       "        vertical-align: middle;\n",
       "    }\n",
       "\n",
       "    .dataframe tbody tr th {\n",
       "        vertical-align: top;\n",
       "    }\n",
       "\n",
       "    .dataframe thead th {\n",
       "        text-align: right;\n",
       "    }\n",
       "</style>\n",
       "<table border=\"1\" class=\"dataframe\">\n",
       "  <thead>\n",
       "    <tr style=\"text-align: right;\">\n",
       "      <th></th>\n",
       "      <th>User_id</th>\n",
       "      <th>Coupon_id</th>\n",
       "      <th>Date_received</th>\n",
       "      <th>result</th>\n",
       "    </tr>\n",
       "  </thead>\n",
       "  <tbody>\n",
       "    <tr>\n",
       "      <th>0</th>\n",
       "      <td>4129537</td>\n",
       "      <td>9983</td>\n",
       "      <td>20160712</td>\n",
       "      <td>0.014140</td>\n",
       "    </tr>\n",
       "    <tr>\n",
       "      <th>1</th>\n",
       "      <td>6949378</td>\n",
       "      <td>3429</td>\n",
       "      <td>20160706</td>\n",
       "      <td>0.970755</td>\n",
       "    </tr>\n",
       "    <tr>\n",
       "      <th>2</th>\n",
       "      <td>2166529</td>\n",
       "      <td>6928</td>\n",
       "      <td>20160727</td>\n",
       "      <td>0.014140</td>\n",
       "    </tr>\n",
       "    <tr>\n",
       "      <th>3</th>\n",
       "      <td>2166529</td>\n",
       "      <td>1808</td>\n",
       "      <td>20160727</td>\n",
       "      <td>0.014140</td>\n",
       "    </tr>\n",
       "    <tr>\n",
       "      <th>4</th>\n",
       "      <td>6172162</td>\n",
       "      <td>6500</td>\n",
       "      <td>20160708</td>\n",
       "      <td>0.014140</td>\n",
       "    </tr>\n",
       "  </tbody>\n",
       "</table>\n",
       "</div>"
      ],
      "text/plain": [
       "   User_id  Coupon_id  Date_received    result\n",
       "0  4129537       9983       20160712  0.014140\n",
       "1  6949378       3429       20160706  0.970755\n",
       "2  2166529       6928       20160727  0.014140\n",
       "3  2166529       1808       20160727  0.014140\n",
       "4  6172162       6500       20160708  0.014140"
      ]
     },
     "execution_count": 70,
     "metadata": {},
     "output_type": "execute_result"
    }
   ],
   "source": [
    "df_pre.head()"
   ]
  },
  {
   "cell_type": "code",
   "execution_count": 71,
   "metadata": {
    "ExecuteTime": {
     "end_time": "2019-01-02T06:34:12.017341Z",
     "start_time": "2019-01-02T06:34:11.160340Z"
    }
   },
   "outputs": [],
   "source": [
    "df_pre.to_csv('offline_feature_submit.csv', index=False, header=False)"
   ]
  },
  {
   "cell_type": "code",
   "execution_count": 72,
   "metadata": {
    "ExecuteTime": {
     "end_time": "2019-01-02T06:34:12.121294Z",
     "start_time": "2019-01-02T06:34:12.020037Z"
    }
   },
   "outputs": [
    {
     "data": {
      "text/html": [
       "<div>\n",
       "<style scoped>\n",
       "    .dataframe tbody tr th:only-of-type {\n",
       "        vertical-align: middle;\n",
       "    }\n",
       "\n",
       "    .dataframe tbody tr th {\n",
       "        vertical-align: top;\n",
       "    }\n",
       "\n",
       "    .dataframe thead th {\n",
       "        text-align: right;\n",
       "    }\n",
       "</style>\n",
       "<table border=\"1\" class=\"dataframe\">\n",
       "  <thead>\n",
       "    <tr style=\"text-align: right;\">\n",
       "      <th></th>\n",
       "      <th>User_id</th>\n",
       "      <th>Coupon_id</th>\n",
       "      <th>Date_received</th>\n",
       "      <th>result</th>\n",
       "    </tr>\n",
       "  </thead>\n",
       "  <tbody>\n",
       "    <tr>\n",
       "      <th>count</th>\n",
       "      <td>1.136400e+05</td>\n",
       "      <td>113640.000000</td>\n",
       "      <td>1.136400e+05</td>\n",
       "      <td>113640.000000</td>\n",
       "    </tr>\n",
       "    <tr>\n",
       "      <th>mean</th>\n",
       "      <td>3.684858e+06</td>\n",
       "      <td>9053.810929</td>\n",
       "      <td>2.016072e+07</td>\n",
       "      <td>0.079741</td>\n",
       "    </tr>\n",
       "    <tr>\n",
       "      <th>std</th>\n",
       "      <td>2.126259e+06</td>\n",
       "      <td>4145.873088</td>\n",
       "      <td>9.019508e+00</td>\n",
       "      <td>0.180418</td>\n",
       "    </tr>\n",
       "    <tr>\n",
       "      <th>min</th>\n",
       "      <td>2.090000e+02</td>\n",
       "      <td>3.000000</td>\n",
       "      <td>2.016070e+07</td>\n",
       "      <td>-0.077257</td>\n",
       "    </tr>\n",
       "    <tr>\n",
       "      <th>25%</th>\n",
       "      <td>1.844191e+06</td>\n",
       "      <td>5023.000000</td>\n",
       "      <td>2.016071e+07</td>\n",
       "      <td>0.014140</td>\n",
       "    </tr>\n",
       "    <tr>\n",
       "      <th>50%</th>\n",
       "      <td>3.683266e+06</td>\n",
       "      <td>9983.000000</td>\n",
       "      <td>2.016072e+07</td>\n",
       "      <td>0.014140</td>\n",
       "    </tr>\n",
       "    <tr>\n",
       "      <th>75%</th>\n",
       "      <td>5.525845e+06</td>\n",
       "      <td>13602.000000</td>\n",
       "      <td>2.016072e+07</td>\n",
       "      <td>0.014140</td>\n",
       "    </tr>\n",
       "    <tr>\n",
       "      <th>max</th>\n",
       "      <td>7.361024e+06</td>\n",
       "      <td>14045.000000</td>\n",
       "      <td>2.016073e+07</td>\n",
       "      <td>1.027169</td>\n",
       "    </tr>\n",
       "  </tbody>\n",
       "</table>\n",
       "</div>"
      ],
      "text/plain": [
       "            User_id      Coupon_id  Date_received         result\n",
       "count  1.136400e+05  113640.000000   1.136400e+05  113640.000000\n",
       "mean   3.684858e+06    9053.810929   2.016072e+07       0.079741\n",
       "std    2.126259e+06    4145.873088   9.019508e+00       0.180418\n",
       "min    2.090000e+02       3.000000   2.016070e+07      -0.077257\n",
       "25%    1.844191e+06    5023.000000   2.016071e+07       0.014140\n",
       "50%    3.683266e+06    9983.000000   2.016072e+07       0.014140\n",
       "75%    5.525845e+06   13602.000000   2.016072e+07       0.014140\n",
       "max    7.361024e+06   14045.000000   2.016073e+07       1.027169"
      ]
     },
     "execution_count": 72,
     "metadata": {},
     "output_type": "execute_result"
    }
   ],
   "source": [
    "df_pre.describe()"
   ]
  },
  {
   "cell_type": "code",
   "execution_count": 73,
   "metadata": {
    "ExecuteTime": {
     "end_time": "2019-01-02T06:34:12.135004Z",
     "start_time": "2019-01-02T06:34:12.125843Z"
    }
   },
   "outputs": [
    {
     "data": {
      "text/plain": [
       "0.02480640619500176"
      ]
     },
     "execution_count": 73,
     "metadata": {},
     "output_type": "execute_result"
    }
   ],
   "source": [
    "len(df_pre[df_pre.result > 0.8]) / len(df_pre)"
   ]
  },
  {
   "cell_type": "code",
   "execution_count": 74,
   "metadata": {
    "ExecuteTime": {
     "end_time": "2019-01-02T06:34:13.016640Z",
     "start_time": "2019-01-02T06:34:12.138606Z"
    }
   },
   "outputs": [
    {
     "data": {
      "text/html": [
       "<div>\n",
       "<style scoped>\n",
       "    .dataframe tbody tr th:only-of-type {\n",
       "        vertical-align: middle;\n",
       "    }\n",
       "\n",
       "    .dataframe tbody tr th {\n",
       "        vertical-align: top;\n",
       "    }\n",
       "\n",
       "    .dataframe thead th {\n",
       "        text-align: right;\n",
       "    }\n",
       "</style>\n",
       "<table border=\"1\" class=\"dataframe\">\n",
       "  <thead>\n",
       "    <tr style=\"text-align: right;\">\n",
       "      <th></th>\n",
       "      <th>User_id</th>\n",
       "      <th>Coupon_id</th>\n",
       "      <th>Date_received</th>\n",
       "      <th>result</th>\n",
       "      <th>scaler_result</th>\n",
       "    </tr>\n",
       "  </thead>\n",
       "  <tbody>\n",
       "    <tr>\n",
       "      <th>count</th>\n",
       "      <td>1.136400e+05</td>\n",
       "      <td>113640.000000</td>\n",
       "      <td>1.136400e+05</td>\n",
       "      <td>113640.000000</td>\n",
       "      <td>113640.000000</td>\n",
       "    </tr>\n",
       "    <tr>\n",
       "      <th>mean</th>\n",
       "      <td>3.684858e+06</td>\n",
       "      <td>9053.810929</td>\n",
       "      <td>2.016072e+07</td>\n",
       "      <td>0.079741</td>\n",
       "      <td>0.142153</td>\n",
       "    </tr>\n",
       "    <tr>\n",
       "      <th>std</th>\n",
       "      <td>2.126259e+06</td>\n",
       "      <td>4145.873088</td>\n",
       "      <td>9.019508e+00</td>\n",
       "      <td>0.180418</td>\n",
       "      <td>0.163359</td>\n",
       "    </tr>\n",
       "    <tr>\n",
       "      <th>min</th>\n",
       "      <td>2.090000e+02</td>\n",
       "      <td>3.000000</td>\n",
       "      <td>2.016070e+07</td>\n",
       "      <td>-0.077257</td>\n",
       "      <td>0.000000</td>\n",
       "    </tr>\n",
       "    <tr>\n",
       "      <th>25%</th>\n",
       "      <td>1.844191e+06</td>\n",
       "      <td>5023.000000</td>\n",
       "      <td>2.016071e+07</td>\n",
       "      <td>0.014140</td>\n",
       "      <td>0.082755</td>\n",
       "    </tr>\n",
       "    <tr>\n",
       "      <th>50%</th>\n",
       "      <td>3.683266e+06</td>\n",
       "      <td>9983.000000</td>\n",
       "      <td>2.016072e+07</td>\n",
       "      <td>0.014140</td>\n",
       "      <td>0.082755</td>\n",
       "    </tr>\n",
       "    <tr>\n",
       "      <th>75%</th>\n",
       "      <td>5.525845e+06</td>\n",
       "      <td>13602.000000</td>\n",
       "      <td>2.016072e+07</td>\n",
       "      <td>0.014140</td>\n",
       "      <td>0.082755</td>\n",
       "    </tr>\n",
       "    <tr>\n",
       "      <th>max</th>\n",
       "      <td>7.361024e+06</td>\n",
       "      <td>14045.000000</td>\n",
       "      <td>2.016073e+07</td>\n",
       "      <td>1.027169</td>\n",
       "      <td>1.000000</td>\n",
       "    </tr>\n",
       "  </tbody>\n",
       "</table>\n",
       "</div>"
      ],
      "text/plain": [
       "            User_id      Coupon_id  Date_received         result  \\\n",
       "count  1.136400e+05  113640.000000   1.136400e+05  113640.000000   \n",
       "mean   3.684858e+06    9053.810929   2.016072e+07       0.079741   \n",
       "std    2.126259e+06    4145.873088   9.019508e+00       0.180418   \n",
       "min    2.090000e+02       3.000000   2.016070e+07      -0.077257   \n",
       "25%    1.844191e+06    5023.000000   2.016071e+07       0.014140   \n",
       "50%    3.683266e+06    9983.000000   2.016072e+07       0.014140   \n",
       "75%    5.525845e+06   13602.000000   2.016072e+07       0.014140   \n",
       "max    7.361024e+06   14045.000000   2.016073e+07       1.027169   \n",
       "\n",
       "       scaler_result  \n",
       "count  113640.000000  \n",
       "mean        0.142153  \n",
       "std         0.163359  \n",
       "min         0.000000  \n",
       "25%         0.082755  \n",
       "50%         0.082755  \n",
       "75%         0.082755  \n",
       "max         1.000000  "
      ]
     },
     "execution_count": 74,
     "metadata": {},
     "output_type": "execute_result"
    }
   ],
   "source": [
    "from sklearn.preprocessing import MinMaxScaler\n",
    "df_pre['scaler_result'] = MinMaxScaler(copy=True,feature_range=(0,1)).fit_transform(df_pre.result.values.reshape(-1,1))\n",
    "df_pre.describe()"
   ]
  },
  {
   "cell_type": "code",
   "execution_count": 75,
   "metadata": {
    "ExecuteTime": {
     "end_time": "2019-01-02T06:34:14.105160Z",
     "start_time": "2019-01-02T06:34:13.020168Z"
    }
   },
   "outputs": [],
   "source": [
    "df_pre.to_csv('offline_feature_submit_scaler.csv', index=False, header=False)"
   ]
  },
  {
   "cell_type": "code",
   "execution_count": 76,
   "metadata": {
    "ExecuteTime": {
     "end_time": "2019-01-02T06:34:14.176439Z",
     "start_time": "2019-01-02T06:34:14.108607Z"
    }
   },
   "outputs": [
    {
     "data": {
      "text/html": [
       "<div>\n",
       "<style scoped>\n",
       "    .dataframe tbody tr th:only-of-type {\n",
       "        vertical-align: middle;\n",
       "    }\n",
       "\n",
       "    .dataframe tbody tr th {\n",
       "        vertical-align: top;\n",
       "    }\n",
       "\n",
       "    .dataframe thead th {\n",
       "        text-align: right;\n",
       "    }\n",
       "</style>\n",
       "<table border=\"1\" class=\"dataframe\">\n",
       "  <thead>\n",
       "    <tr style=\"text-align: right;\">\n",
       "      <th></th>\n",
       "      <th>User_id</th>\n",
       "      <th>Merchant_id</th>\n",
       "      <th>Coupon_id</th>\n",
       "      <th>Discount_rate</th>\n",
       "      <th>Distance</th>\n",
       "      <th>Date_received</th>\n",
       "      <th>discount_rate</th>\n",
       "      <th>discount_type</th>\n",
       "      <th>mer_sell</th>\n",
       "      <th>mer_sell_ranking</th>\n",
       "      <th>...</th>\n",
       "      <th>amount_coupon_consume_ranking</th>\n",
       "      <th>amount_coupon_no_consume_ranking</th>\n",
       "      <th>total_coupon_ranking</th>\n",
       "      <th>rate_coupon_consume_ranking</th>\n",
       "      <th>total_consume_ranking</th>\n",
       "      <th>rate_total_coupon_consume_ranking</th>\n",
       "      <th>total_consume_interval_ranking</th>\n",
       "      <th>no_conpon_consume_interval_ranking</th>\n",
       "      <th>coupon_consume_interval_ranking</th>\n",
       "      <th>coupon_to_consume_interval_ranking</th>\n",
       "    </tr>\n",
       "  </thead>\n",
       "  <tbody>\n",
       "    <tr>\n",
       "      <th>1889</th>\n",
       "      <td>3704173</td>\n",
       "      <td>5075</td>\n",
       "      <td>3</td>\n",
       "      <td>50:1</td>\n",
       "      <td>0.0</td>\n",
       "      <td>20160707</td>\n",
       "      <td>0.98</td>\n",
       "      <td>1</td>\n",
       "      <td>43.0</td>\n",
       "      <td>17.0</td>\n",
       "      <td>...</td>\n",
       "      <td>NaN</td>\n",
       "      <td>1.0</td>\n",
       "      <td>1.0</td>\n",
       "      <td>0.0</td>\n",
       "      <td>0.0</td>\n",
       "      <td>NaN</td>\n",
       "      <td>NaN</td>\n",
       "      <td>NaN</td>\n",
       "      <td>NaN</td>\n",
       "      <td>NaN</td>\n",
       "    </tr>\n",
       "    <tr>\n",
       "      <th>4107</th>\n",
       "      <td>5636038</td>\n",
       "      <td>5075</td>\n",
       "      <td>3</td>\n",
       "      <td>50:1</td>\n",
       "      <td>1.0</td>\n",
       "      <td>20160723</td>\n",
       "      <td>0.98</td>\n",
       "      <td>1</td>\n",
       "      <td>43.0</td>\n",
       "      <td>17.0</td>\n",
       "      <td>...</td>\n",
       "      <td>NaN</td>\n",
       "      <td>1.0</td>\n",
       "      <td>1.0</td>\n",
       "      <td>0.0</td>\n",
       "      <td>NaN</td>\n",
       "      <td>NaN</td>\n",
       "      <td>NaN</td>\n",
       "      <td>NaN</td>\n",
       "      <td>NaN</td>\n",
       "      <td>NaN</td>\n",
       "    </tr>\n",
       "    <tr>\n",
       "      <th>8954</th>\n",
       "      <td>2775265</td>\n",
       "      <td>5075</td>\n",
       "      <td>3</td>\n",
       "      <td>50:1</td>\n",
       "      <td>6.0</td>\n",
       "      <td>20160723</td>\n",
       "      <td>0.98</td>\n",
       "      <td>1</td>\n",
       "      <td>43.0</td>\n",
       "      <td>17.0</td>\n",
       "      <td>...</td>\n",
       "      <td>NaN</td>\n",
       "      <td>0.0</td>\n",
       "      <td>0.0</td>\n",
       "      <td>0.0</td>\n",
       "      <td>0.0</td>\n",
       "      <td>NaN</td>\n",
       "      <td>NaN</td>\n",
       "      <td>NaN</td>\n",
       "      <td>NaN</td>\n",
       "      <td>NaN</td>\n",
       "    </tr>\n",
       "    <tr>\n",
       "      <th>25264</th>\n",
       "      <td>1647633</td>\n",
       "      <td>5075</td>\n",
       "      <td>3</td>\n",
       "      <td>50:1</td>\n",
       "      <td>10.0</td>\n",
       "      <td>20160710</td>\n",
       "      <td>0.98</td>\n",
       "      <td>1</td>\n",
       "      <td>43.0</td>\n",
       "      <td>17.0</td>\n",
       "      <td>...</td>\n",
       "      <td>NaN</td>\n",
       "      <td>0.0</td>\n",
       "      <td>0.0</td>\n",
       "      <td>0.0</td>\n",
       "      <td>1.0</td>\n",
       "      <td>NaN</td>\n",
       "      <td>14.0</td>\n",
       "      <td>14.0</td>\n",
       "      <td>NaN</td>\n",
       "      <td>NaN</td>\n",
       "    </tr>\n",
       "    <tr>\n",
       "      <th>54554</th>\n",
       "      <td>1462435</td>\n",
       "      <td>5075</td>\n",
       "      <td>3</td>\n",
       "      <td>50:1</td>\n",
       "      <td>0.0</td>\n",
       "      <td>20160708</td>\n",
       "      <td>0.98</td>\n",
       "      <td>1</td>\n",
       "      <td>43.0</td>\n",
       "      <td>17.0</td>\n",
       "      <td>...</td>\n",
       "      <td>NaN</td>\n",
       "      <td>NaN</td>\n",
       "      <td>NaN</td>\n",
       "      <td>NaN</td>\n",
       "      <td>3.0</td>\n",
       "      <td>NaN</td>\n",
       "      <td>3.0</td>\n",
       "      <td>3.0</td>\n",
       "      <td>NaN</td>\n",
       "      <td>NaN</td>\n",
       "    </tr>\n",
       "    <tr>\n",
       "      <th>55485</th>\n",
       "      <td>5244608</td>\n",
       "      <td>5075</td>\n",
       "      <td>3</td>\n",
       "      <td>50:1</td>\n",
       "      <td>NaN</td>\n",
       "      <td>20160720</td>\n",
       "      <td>0.98</td>\n",
       "      <td>1</td>\n",
       "      <td>43.0</td>\n",
       "      <td>17.0</td>\n",
       "      <td>...</td>\n",
       "      <td>1.0</td>\n",
       "      <td>0.0</td>\n",
       "      <td>2.0</td>\n",
       "      <td>13.0</td>\n",
       "      <td>1.0</td>\n",
       "      <td>9.0</td>\n",
       "      <td>0.0</td>\n",
       "      <td>0.0</td>\n",
       "      <td>2.0</td>\n",
       "      <td>17.0</td>\n",
       "    </tr>\n",
       "    <tr>\n",
       "      <th>58554</th>\n",
       "      <td>1302487</td>\n",
       "      <td>5075</td>\n",
       "      <td>3</td>\n",
       "      <td>50:1</td>\n",
       "      <td>5.0</td>\n",
       "      <td>20160709</td>\n",
       "      <td>0.98</td>\n",
       "      <td>1</td>\n",
       "      <td>43.0</td>\n",
       "      <td>17.0</td>\n",
       "      <td>...</td>\n",
       "      <td>NaN</td>\n",
       "      <td>1.0</td>\n",
       "      <td>1.0</td>\n",
       "      <td>0.0</td>\n",
       "      <td>NaN</td>\n",
       "      <td>NaN</td>\n",
       "      <td>NaN</td>\n",
       "      <td>NaN</td>\n",
       "      <td>NaN</td>\n",
       "      <td>NaN</td>\n",
       "    </tr>\n",
       "    <tr>\n",
       "      <th>59580</th>\n",
       "      <td>1018354</td>\n",
       "      <td>5075</td>\n",
       "      <td>3</td>\n",
       "      <td>50:1</td>\n",
       "      <td>1.0</td>\n",
       "      <td>20160724</td>\n",
       "      <td>0.98</td>\n",
       "      <td>1</td>\n",
       "      <td>43.0</td>\n",
       "      <td>17.0</td>\n",
       "      <td>...</td>\n",
       "      <td>NaN</td>\n",
       "      <td>0.0</td>\n",
       "      <td>0.0</td>\n",
       "      <td>0.0</td>\n",
       "      <td>0.0</td>\n",
       "      <td>NaN</td>\n",
       "      <td>NaN</td>\n",
       "      <td>NaN</td>\n",
       "      <td>NaN</td>\n",
       "      <td>NaN</td>\n",
       "    </tr>\n",
       "    <tr>\n",
       "      <th>71535</th>\n",
       "      <td>1578619</td>\n",
       "      <td>5075</td>\n",
       "      <td>3</td>\n",
       "      <td>50:1</td>\n",
       "      <td>1.0</td>\n",
       "      <td>20160708</td>\n",
       "      <td>0.98</td>\n",
       "      <td>1</td>\n",
       "      <td>43.0</td>\n",
       "      <td>17.0</td>\n",
       "      <td>...</td>\n",
       "      <td>NaN</td>\n",
       "      <td>0.0</td>\n",
       "      <td>0.0</td>\n",
       "      <td>0.0</td>\n",
       "      <td>2.0</td>\n",
       "      <td>NaN</td>\n",
       "      <td>10.0</td>\n",
       "      <td>10.0</td>\n",
       "      <td>NaN</td>\n",
       "      <td>NaN</td>\n",
       "    </tr>\n",
       "    <tr>\n",
       "      <th>79885</th>\n",
       "      <td>5712798</td>\n",
       "      <td>5075</td>\n",
       "      <td>3</td>\n",
       "      <td>50:1</td>\n",
       "      <td>1.0</td>\n",
       "      <td>20160709</td>\n",
       "      <td>0.98</td>\n",
       "      <td>1</td>\n",
       "      <td>43.0</td>\n",
       "      <td>17.0</td>\n",
       "      <td>...</td>\n",
       "      <td>NaN</td>\n",
       "      <td>4.0</td>\n",
       "      <td>4.0</td>\n",
       "      <td>0.0</td>\n",
       "      <td>2.0</td>\n",
       "      <td>NaN</td>\n",
       "      <td>13.0</td>\n",
       "      <td>13.0</td>\n",
       "      <td>NaN</td>\n",
       "      <td>NaN</td>\n",
       "    </tr>\n",
       "    <tr>\n",
       "      <th>89443</th>\n",
       "      <td>5155319</td>\n",
       "      <td>5075</td>\n",
       "      <td>3</td>\n",
       "      <td>50:1</td>\n",
       "      <td>0.0</td>\n",
       "      <td>20160703</td>\n",
       "      <td>0.98</td>\n",
       "      <td>1</td>\n",
       "      <td>43.0</td>\n",
       "      <td>17.0</td>\n",
       "      <td>...</td>\n",
       "      <td>NaN</td>\n",
       "      <td>1.0</td>\n",
       "      <td>1.0</td>\n",
       "      <td>0.0</td>\n",
       "      <td>9.0</td>\n",
       "      <td>NaN</td>\n",
       "      <td>9.0</td>\n",
       "      <td>9.0</td>\n",
       "      <td>NaN</td>\n",
       "      <td>NaN</td>\n",
       "    </tr>\n",
       "    <tr>\n",
       "      <th>91102</th>\n",
       "      <td>1389971</td>\n",
       "      <td>5075</td>\n",
       "      <td>3</td>\n",
       "      <td>50:1</td>\n",
       "      <td>0.0</td>\n",
       "      <td>20160707</td>\n",
       "      <td>0.98</td>\n",
       "      <td>1</td>\n",
       "      <td>43.0</td>\n",
       "      <td>17.0</td>\n",
       "      <td>...</td>\n",
       "      <td>NaN</td>\n",
       "      <td>0.0</td>\n",
       "      <td>0.0</td>\n",
       "      <td>0.0</td>\n",
       "      <td>3.0</td>\n",
       "      <td>NaN</td>\n",
       "      <td>10.0</td>\n",
       "      <td>10.0</td>\n",
       "      <td>NaN</td>\n",
       "      <td>NaN</td>\n",
       "    </tr>\n",
       "    <tr>\n",
       "      <th>93199</th>\n",
       "      <td>2907482</td>\n",
       "      <td>5075</td>\n",
       "      <td>3</td>\n",
       "      <td>50:1</td>\n",
       "      <td>3.0</td>\n",
       "      <td>20160704</td>\n",
       "      <td>0.98</td>\n",
       "      <td>1</td>\n",
       "      <td>43.0</td>\n",
       "      <td>17.0</td>\n",
       "      <td>...</td>\n",
       "      <td>NaN</td>\n",
       "      <td>0.0</td>\n",
       "      <td>0.0</td>\n",
       "      <td>0.0</td>\n",
       "      <td>1.0</td>\n",
       "      <td>NaN</td>\n",
       "      <td>8.0</td>\n",
       "      <td>8.0</td>\n",
       "      <td>NaN</td>\n",
       "      <td>NaN</td>\n",
       "    </tr>\n",
       "    <tr>\n",
       "      <th>98688</th>\n",
       "      <td>1368563</td>\n",
       "      <td>5075</td>\n",
       "      <td>3</td>\n",
       "      <td>50:1</td>\n",
       "      <td>0.0</td>\n",
       "      <td>20160722</td>\n",
       "      <td>0.98</td>\n",
       "      <td>1</td>\n",
       "      <td>43.0</td>\n",
       "      <td>17.0</td>\n",
       "      <td>...</td>\n",
       "      <td>NaN</td>\n",
       "      <td>1.0</td>\n",
       "      <td>1.0</td>\n",
       "      <td>0.0</td>\n",
       "      <td>1.0</td>\n",
       "      <td>NaN</td>\n",
       "      <td>9.0</td>\n",
       "      <td>9.0</td>\n",
       "      <td>NaN</td>\n",
       "      <td>NaN</td>\n",
       "    </tr>\n",
       "    <tr>\n",
       "      <th>101124</th>\n",
       "      <td>2735138</td>\n",
       "      <td>5075</td>\n",
       "      <td>3</td>\n",
       "      <td>50:1</td>\n",
       "      <td>0.0</td>\n",
       "      <td>20160701</td>\n",
       "      <td>0.98</td>\n",
       "      <td>1</td>\n",
       "      <td>43.0</td>\n",
       "      <td>17.0</td>\n",
       "      <td>...</td>\n",
       "      <td>NaN</td>\n",
       "      <td>6.0</td>\n",
       "      <td>7.0</td>\n",
       "      <td>0.0</td>\n",
       "      <td>10.0</td>\n",
       "      <td>NaN</td>\n",
       "      <td>3.0</td>\n",
       "      <td>3.0</td>\n",
       "      <td>NaN</td>\n",
       "      <td>NaN</td>\n",
       "    </tr>\n",
       "    <tr>\n",
       "      <th>111644</th>\n",
       "      <td>5139497</td>\n",
       "      <td>5075</td>\n",
       "      <td>3</td>\n",
       "      <td>50:1</td>\n",
       "      <td>2.0</td>\n",
       "      <td>20160712</td>\n",
       "      <td>0.98</td>\n",
       "      <td>1</td>\n",
       "      <td>43.0</td>\n",
       "      <td>17.0</td>\n",
       "      <td>...</td>\n",
       "      <td>NaN</td>\n",
       "      <td>NaN</td>\n",
       "      <td>NaN</td>\n",
       "      <td>NaN</td>\n",
       "      <td>0.0</td>\n",
       "      <td>NaN</td>\n",
       "      <td>NaN</td>\n",
       "      <td>NaN</td>\n",
       "      <td>NaN</td>\n",
       "      <td>NaN</td>\n",
       "    </tr>\n",
       "  </tbody>\n",
       "</table>\n",
       "<p>16 rows × 36 columns</p>\n",
       "</div>"
      ],
      "text/plain": [
       "        User_id  Merchant_id  Coupon_id Discount_rate  Distance  \\\n",
       "1889    3704173         5075          3          50:1       0.0   \n",
       "4107    5636038         5075          3          50:1       1.0   \n",
       "8954    2775265         5075          3          50:1       6.0   \n",
       "25264   1647633         5075          3          50:1      10.0   \n",
       "54554   1462435         5075          3          50:1       0.0   \n",
       "55485   5244608         5075          3          50:1       NaN   \n",
       "58554   1302487         5075          3          50:1       5.0   \n",
       "59580   1018354         5075          3          50:1       1.0   \n",
       "71535   1578619         5075          3          50:1       1.0   \n",
       "79885   5712798         5075          3          50:1       1.0   \n",
       "89443   5155319         5075          3          50:1       0.0   \n",
       "91102   1389971         5075          3          50:1       0.0   \n",
       "93199   2907482         5075          3          50:1       3.0   \n",
       "98688   1368563         5075          3          50:1       0.0   \n",
       "101124  2735138         5075          3          50:1       0.0   \n",
       "111644  5139497         5075          3          50:1       2.0   \n",
       "\n",
       "        Date_received  discount_rate  discount_type  mer_sell  \\\n",
       "1889         20160707           0.98              1      43.0   \n",
       "4107         20160723           0.98              1      43.0   \n",
       "8954         20160723           0.98              1      43.0   \n",
       "25264        20160710           0.98              1      43.0   \n",
       "54554        20160708           0.98              1      43.0   \n",
       "55485        20160720           0.98              1      43.0   \n",
       "58554        20160709           0.98              1      43.0   \n",
       "59580        20160724           0.98              1      43.0   \n",
       "71535        20160708           0.98              1      43.0   \n",
       "79885        20160709           0.98              1      43.0   \n",
       "89443        20160703           0.98              1      43.0   \n",
       "91102        20160707           0.98              1      43.0   \n",
       "93199        20160704           0.98              1      43.0   \n",
       "98688        20160722           0.98              1      43.0   \n",
       "101124       20160701           0.98              1      43.0   \n",
       "111644       20160712           0.98              1      43.0   \n",
       "\n",
       "        mer_sell_ranking                 ...                  \\\n",
       "1889                17.0                 ...                   \n",
       "4107                17.0                 ...                   \n",
       "8954                17.0                 ...                   \n",
       "25264               17.0                 ...                   \n",
       "54554               17.0                 ...                   \n",
       "55485               17.0                 ...                   \n",
       "58554               17.0                 ...                   \n",
       "59580               17.0                 ...                   \n",
       "71535               17.0                 ...                   \n",
       "79885               17.0                 ...                   \n",
       "89443               17.0                 ...                   \n",
       "91102               17.0                 ...                   \n",
       "93199               17.0                 ...                   \n",
       "98688               17.0                 ...                   \n",
       "101124              17.0                 ...                   \n",
       "111644              17.0                 ...                   \n",
       "\n",
       "        amount_coupon_consume_ranking  amount_coupon_no_consume_ranking  \\\n",
       "1889                              NaN                               1.0   \n",
       "4107                              NaN                               1.0   \n",
       "8954                              NaN                               0.0   \n",
       "25264                             NaN                               0.0   \n",
       "54554                             NaN                               NaN   \n",
       "55485                             1.0                               0.0   \n",
       "58554                             NaN                               1.0   \n",
       "59580                             NaN                               0.0   \n",
       "71535                             NaN                               0.0   \n",
       "79885                             NaN                               4.0   \n",
       "89443                             NaN                               1.0   \n",
       "91102                             NaN                               0.0   \n",
       "93199                             NaN                               0.0   \n",
       "98688                             NaN                               1.0   \n",
       "101124                            NaN                               6.0   \n",
       "111644                            NaN                               NaN   \n",
       "\n",
       "        total_coupon_ranking  rate_coupon_consume_ranking  \\\n",
       "1889                     1.0                          0.0   \n",
       "4107                     1.0                          0.0   \n",
       "8954                     0.0                          0.0   \n",
       "25264                    0.0                          0.0   \n",
       "54554                    NaN                          NaN   \n",
       "55485                    2.0                         13.0   \n",
       "58554                    1.0                          0.0   \n",
       "59580                    0.0                          0.0   \n",
       "71535                    0.0                          0.0   \n",
       "79885                    4.0                          0.0   \n",
       "89443                    1.0                          0.0   \n",
       "91102                    0.0                          0.0   \n",
       "93199                    0.0                          0.0   \n",
       "98688                    1.0                          0.0   \n",
       "101124                   7.0                          0.0   \n",
       "111644                   NaN                          NaN   \n",
       "\n",
       "        total_consume_ranking  rate_total_coupon_consume_ranking  \\\n",
       "1889                      0.0                                NaN   \n",
       "4107                      NaN                                NaN   \n",
       "8954                      0.0                                NaN   \n",
       "25264                     1.0                                NaN   \n",
       "54554                     3.0                                NaN   \n",
       "55485                     1.0                                9.0   \n",
       "58554                     NaN                                NaN   \n",
       "59580                     0.0                                NaN   \n",
       "71535                     2.0                                NaN   \n",
       "79885                     2.0                                NaN   \n",
       "89443                     9.0                                NaN   \n",
       "91102                     3.0                                NaN   \n",
       "93199                     1.0                                NaN   \n",
       "98688                     1.0                                NaN   \n",
       "101124                   10.0                                NaN   \n",
       "111644                    0.0                                NaN   \n",
       "\n",
       "        total_consume_interval_ranking  no_conpon_consume_interval_ranking  \\\n",
       "1889                               NaN                                 NaN   \n",
       "4107                               NaN                                 NaN   \n",
       "8954                               NaN                                 NaN   \n",
       "25264                             14.0                                14.0   \n",
       "54554                              3.0                                 3.0   \n",
       "55485                              0.0                                 0.0   \n",
       "58554                              NaN                                 NaN   \n",
       "59580                              NaN                                 NaN   \n",
       "71535                             10.0                                10.0   \n",
       "79885                             13.0                                13.0   \n",
       "89443                              9.0                                 9.0   \n",
       "91102                             10.0                                10.0   \n",
       "93199                              8.0                                 8.0   \n",
       "98688                              9.0                                 9.0   \n",
       "101124                             3.0                                 3.0   \n",
       "111644                             NaN                                 NaN   \n",
       "\n",
       "        coupon_consume_interval_ranking  coupon_to_consume_interval_ranking  \n",
       "1889                                NaN                                 NaN  \n",
       "4107                                NaN                                 NaN  \n",
       "8954                                NaN                                 NaN  \n",
       "25264                               NaN                                 NaN  \n",
       "54554                               NaN                                 NaN  \n",
       "55485                               2.0                                17.0  \n",
       "58554                               NaN                                 NaN  \n",
       "59580                               NaN                                 NaN  \n",
       "71535                               NaN                                 NaN  \n",
       "79885                               NaN                                 NaN  \n",
       "89443                               NaN                                 NaN  \n",
       "91102                               NaN                                 NaN  \n",
       "93199                               NaN                                 NaN  \n",
       "98688                               NaN                                 NaN  \n",
       "101124                              NaN                                 NaN  \n",
       "111644                              NaN                                 NaN  \n",
       "\n",
       "[16 rows x 36 columns]"
      ]
     },
     "execution_count": 76,
     "metadata": {},
     "output_type": "execute_result"
    }
   ],
   "source": [
    "temp_test[temp_test['Coupon_id'] == 3]"
   ]
  },
  {
   "cell_type": "code",
   "execution_count": null,
   "metadata": {},
   "outputs": [],
   "source": []
  }
 ],
 "metadata": {
  "kernelspec": {
   "display_name": "Python 3",
   "language": "python",
   "name": "python3"
  },
  "language_info": {
   "codemirror_mode": {
    "name": "ipython",
    "version": 3
   },
   "file_extension": ".py",
   "mimetype": "text/x-python",
   "name": "python",
   "nbconvert_exporter": "python",
   "pygments_lexer": "ipython3",
   "version": "3.6.5"
  }
 },
 "nbformat": 4,
 "nbformat_minor": 2
}
